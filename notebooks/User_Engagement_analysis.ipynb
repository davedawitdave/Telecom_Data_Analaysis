{
 "cells": [
  {
   "cell_type": "markdown",
   "id": "0aaffcd2",
   "metadata": {},
   "source": [
    "# User Engagement Analysis"
   ]
  },
  {
   "cell_type": "code",
   "execution_count": 5,
   "id": "61e5b4ba",
   "metadata": {},
   "outputs": [],
   "source": [
    "import pandas as pd\n",
    "import numpy as np\n",
    "import os\n",
    "import warnings\n",
    "import matplotlib.pyplot as plt\n",
    "import seaborn as sns\n",
    "import sys\n",
    "from sklearn.preprocessing import StandardScaler\n",
    "from sklearn.cluster import KMeans\n",
    "from mpl_toolkits.mplot3d import Axes3D\n"
   ]
  },
  {
   "cell_type": "code",
   "execution_count": 6,
   "id": "9734c7da",
   "metadata": {},
   "outputs": [],
   "source": [
    "warnings.filterwarnings('ignore')\n"
   ]
  },
  {
   "cell_type": "code",
   "execution_count": 7,
   "id": "38168c49",
   "metadata": {},
   "outputs": [],
   "source": [
    "parent_dir = os.path.abspath(os.path.join(os.getcwd(), os.pardir)) \n",
    "scripts_dir = os.path.join(parent_dir,\"scripts\") \n",
    "data_path = os.path.join(parent_dir,\"data\",\"teleco_user-aggr_data.csv\")\n",
    "sys.path.insert(1, scripts_dir)"
   ]
  },
  {
   "cell_type": "code",
   "execution_count": null,
   "id": "3cd1e9f0",
   "metadata": {},
   "outputs": [],
   "source": [
    "user_engeg_data=read_csv(data_path)"
   ]
  },
  {
   "cell_type": "code",
   "execution_count": null,
   "id": "1891a18f",
   "metadata": {},
   "outputs": [],
   "source": []
  },
  {
   "cell_type": "code",
   "execution_count": null,
   "id": "c8020c3e",
   "metadata": {},
   "outputs": [],
   "source": [
    "engagment_metrices=['session frequency','session duration','data volume']"
   ]
  },
  {
   "cell_type": "code",
   "execution_count": null,
   "id": "5080b2f7",
   "metadata": {},
   "outputs": [],
   "source": [
    "user_engegment_data="
   ]
  },
  {
   "cell_type": "markdown",
   "id": "543f5ac9",
   "metadata": {},
   "source": [
    "# Preprocessing User Engagment Data"
   ]
  },
  {
   "cell_type": "code",
   "execution_count": null,
   "id": "cd003be4",
   "metadata": {},
   "outputs": [],
   "source": [
    "#top_ten engagment before Normalization "
   ]
  },
  {
   "cell_type": "code",
   "execution_count": null,
   "id": "97f37ac2",
   "metadata": {},
   "outputs": [],
   "source": [
    "#apply Noramlization "
   ]
  },
  {
   "cell_type": "code",
   "execution_count": null,
   "id": "05835fdc",
   "metadata": {},
   "outputs": [],
   "source": [
    "#top_ten engagment after Normalization "
   ]
  },
  {
   "cell_type": "code",
   "execution_count": null,
   "id": "8600bd5f",
   "metadata": {},
   "outputs": [],
   "source": [
    "#k-means"
   ]
  },
  {
   "cell_type": "code",
   "execution_count": null,
   "id": "2e5a039c",
   "metadata": {},
   "outputs": [],
   "source": []
  },
  {
   "cell_type": "code",
   "execution_count": null,
   "id": "648a926f",
   "metadata": {},
   "outputs": [],
   "source": []
  },
  {
   "cell_type": "code",
   "execution_count": null,
   "id": "3beae24d",
   "metadata": {},
   "outputs": [],
   "source": []
  },
  {
   "cell_type": "code",
   "execution_count": null,
   "id": "1700ed0d",
   "metadata": {},
   "outputs": [],
   "source": []
  },
  {
   "cell_type": "code",
   "execution_count": null,
   "id": "e84b6021",
   "metadata": {},
   "outputs": [],
   "source": []
  },
  {
   "cell_type": "code",
   "execution_count": null,
   "id": "0525e21c",
   "metadata": {},
   "outputs": [],
   "source": []
  }
 ],
 "metadata": {
  "kernelspec": {
   "display_name": "Python 3 (ipykernel)",
   "language": "python",
   "name": "python3"
  },
  "language_info": {
   "codemirror_mode": {
    "name": "ipython",
    "version": 3
   },
   "file_extension": ".py",
   "mimetype": "text/x-python",
   "name": "python",
   "nbconvert_exporter": "python",
   "pygments_lexer": "ipython3",
   "version": "3.8.8"
  }
 },
 "nbformat": 4,
 "nbformat_minor": 5
}
