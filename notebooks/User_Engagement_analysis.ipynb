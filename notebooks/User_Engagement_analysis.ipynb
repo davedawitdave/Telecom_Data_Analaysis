{
 "cells": [
  {
   "cell_type": "markdown",
   "id": "0aaffcd2",
   "metadata": {},
   "source": [
    "# User Engagement Analysis"
   ]
  },
  {
   "cell_type": "code",
   "execution_count": 3,
   "id": "61e5b4ba",
   "metadata": {},
   "outputs": [],
   "source": [
    "import pandas as pd\n",
    "import numpy as np\n",
    "import os\n",
    "import warnings\n",
    "import matplotlib.pyplot as plt\n",
    "import seaborn as sns\n",
    "import sys\n",
    "sys.path.append(\"..\")\n",
    "from models.all_models import MLmodels as md\n",
    "from sklearn.preprocessing import StandardScaler\n",
    "from sklearn.cluster import KMeans\n",
    "from mpl_toolkits.mplot3d import Axes3D\n",
    "\n",
    "md = md()\n"
   ]
  },
  {
   "cell_type": "code",
   "execution_count": 4,
   "id": "9734c7da",
   "metadata": {},
   "outputs": [],
   "source": [
    "warnings.filterwarnings('ignore')\n"
   ]
  },
  {
   "cell_type": "code",
   "execution_count": 19,
   "id": "38168c49",
   "metadata": {},
   "outputs": [],
   "source": [
    "parent_dir = os.path.abspath(os.path.join(os.getcwd(), os.pardir)) \n",
    "scripts_dir = os.path.join(parent_dir,\"scripts\") \n",
    "data_path = os.path.join(parent_dir,\"data\",\"telecom_clean_data.csv\")\n",
    "data_path2 = os.path.join(parent_dir,\"data\",\"user_overview_clean_data.csv\")\n",
    "data_path3 = os.path.join(parent_dir,\"data\",\"session_data.csv\")\n",
    "sys.path.insert(1, scripts_dir)"
   ]
  },
  {
   "cell_type": "code",
   "execution_count": 27,
   "id": "6ad9eb69",
   "metadata": {},
   "outputs": [],
   "source": [
    "user_engegment_data=pd.read_csv(data_path3)"
   ]
  },
  {
   "cell_type": "code",
   "execution_count": 28,
   "id": "f21c55dd",
   "metadata": {},
   "outputs": [
    {
     "name": "stdout",
     "output_type": "stream",
     "text": [
      "<class 'pandas.core.frame.DataFrame'>\n",
      "RangeIndex: 106471 entries, 0 to 106470\n",
      "Data columns (total 15 columns):\n",
      " #   Column               Non-Null Count   Dtype  \n",
      "---  ------               --------------   -----  \n",
      " 0   MSISDN/Number        106471 non-null  float64\n",
      " 1   Num_of_xDR_sessions  106471 non-null  int64  \n",
      " 2   session_duration     106471 non-null  float64\n",
      " 3   Handset Type         106471 non-null  object \n",
      " 4   AVG RTT (S)          106471 non-null  float64\n",
      " 5   AVG Bearer TP        106471 non-null  float64\n",
      " 6   sec with vol<6.25kb  106471 non-null  float64\n",
      " 7   Total_transmit       106471 non-null  float64\n",
      " 8   Other_transmit       106471 non-null  float64\n",
      " 9   Gaming               106471 non-null  float64\n",
      " 10  Netflix              106471 non-null  float64\n",
      " 11  Youtube              106471 non-null  float64\n",
      " 12  Email                106471 non-null  float64\n",
      " 13  Google               106471 non-null  float64\n",
      " 14  Social Media         106471 non-null  float64\n",
      "dtypes: float64(13), int64(1), object(1)\n",
      "memory usage: 12.2+ MB\n"
     ]
    }
   ],
   "source": [
    "user_engegment_data.info()"
   ]
  },
  {
   "cell_type": "markdown",
   "id": "64645a8f",
   "metadata": {},
   "source": [
    "### Showing top 10 users"
   ]
  },
  {
   "cell_type": "code",
   "execution_count": 32,
   "id": "14c45517",
   "metadata": {},
   "outputs": [],
   "source": [
    "engagment_metrices=['Num_of_xDR_sessions','session_duration','Total_transmit']"
   ]
  },
  {
   "cell_type": "code",
   "execution_count": 38,
   "id": "c2c4f48a",
   "metadata": {
    "scrolled": true
   },
   "outputs": [
    {
     "name": "stdout",
     "output_type": "stream",
     "text": [
      "\n",
      "Top 10 customers based on Num_of_xDR_sessions\n",
      "\n",
      "       MSISDN/Number  Num_of_xDR_sessions\n",
      "13467   3.362632e+10                   18\n",
      "6404    3.361489e+10                   17\n",
      "13123   3.362578e+10                   17\n",
      "36909   3.365973e+10                   16\n",
      "92584   3.376054e+10                   15\n",
      "76077   3.367588e+10                   15\n",
      "64883   3.366716e+10                   13\n",
      "1270    3.360452e+10                   12\n",
      "92239   3.376041e+10                   12\n",
      "658     3.360313e+10                   12\n",
      "\n",
      "Top 10 customers based on session_duration\n",
      "\n",
      "       MSISDN/Number  session_duration\n",
      "13123   3.362578e+10         18553.754\n",
      "6404    3.361489e+10          9966.898\n",
      "92584   3.376054e+10          9279.434\n",
      "13467   3.362632e+10          8791.927\n",
      "64883   3.366716e+10          8744.914\n",
      "50096   3.366284e+10          6614.270\n",
      "56951   3.366469e+10          6288.730\n",
      "658     3.360313e+10          6287.761\n",
      "65787   3.366746e+10          5649.882\n",
      "92239   3.376041e+10          5321.667\n",
      "\n",
      "Top 10 customers based on Total_transmit\n",
      "\n",
      "       MSISDN/Number  Total_transmit\n",
      "6404    3.361489e+10    8.846226e+09\n",
      "92584   3.376054e+10    8.514774e+09\n",
      "13123   3.362578e+10    8.499621e+09\n",
      "13467   3.362632e+10    7.971167e+09\n",
      "76077   3.367588e+10    7.891111e+09\n",
      "36909   3.365973e+10    7.705863e+09\n",
      "62804   3.366646e+10    7.308501e+09\n",
      "92239   3.376041e+10    7.132371e+09\n",
      "57032   3.366471e+10    6.872018e+09\n",
      "86138   3.369879e+10    6.540899e+09\n"
     ]
    }
   ],
   "source": [
    "for cols in range(len(engagment_metrices)):\n",
    "    print(\"\\nTop 10 customers based on \"+engagment_metrices[cols]+\"\\n\")\n",
    "    print(user_engegment_data.sort_values(by=engagment_metrices[cols], ascending=False).loc[:,['MSISDN/Number',engagment_metrices[cols]]].head(10))"
   ]
  },
  {
   "cell_type": "code",
   "execution_count": null,
   "id": "e668dc64",
   "metadata": {},
   "outputs": [],
   "source": [
    "user_engegment_data="
   ]
  },
  {
   "cell_type": "markdown",
   "id": "80be7743",
   "metadata": {},
   "source": [
    "# Preprocessing User Engagment Data"
   ]
  },
  {
   "cell_type": "code",
   "execution_count": null,
   "id": "d6f06edb",
   "metadata": {},
   "outputs": [],
   "source": [
    "#top_ten engagment before Normalization "
   ]
  },
  {
   "cell_type": "code",
   "execution_count": null,
   "id": "bc0cc970",
   "metadata": {},
   "outputs": [],
   "source": [
    "#apply Noramlization "
   ]
  },
  {
   "cell_type": "code",
   "execution_count": null,
   "id": "82b18489",
   "metadata": {},
   "outputs": [],
   "source": [
    "#top_ten engagment after Normalization "
   ]
  },
  {
   "cell_type": "code",
   "execution_count": null,
   "id": "8600bd5f",
   "metadata": {},
   "outputs": [],
   "source": [
    "#k-means"
   ]
  },
  {
   "cell_type": "code",
   "execution_count": null,
   "id": "2e5a039c",
   "metadata": {},
   "outputs": [],
   "source": []
  },
  {
   "cell_type": "code",
   "execution_count": null,
   "id": "648a926f",
   "metadata": {},
   "outputs": [],
   "source": []
  },
  {
   "cell_type": "code",
   "execution_count": null,
   "id": "3beae24d",
   "metadata": {},
   "outputs": [],
   "source": []
  },
  {
   "cell_type": "code",
   "execution_count": null,
   "id": "1700ed0d",
   "metadata": {},
   "outputs": [],
   "source": []
  },
  {
   "cell_type": "code",
   "execution_count": null,
   "id": "e84b6021",
   "metadata": {},
   "outputs": [],
   "source": []
  },
  {
   "cell_type": "code",
   "execution_count": null,
   "id": "0525e21c",
   "metadata": {},
   "outputs": [],
   "source": []
  }
 ],
 "metadata": {
  "kernelspec": {
   "display_name": "Python 3 (ipykernel)",
   "language": "python",
   "name": "python3"
  },
  "language_info": {
   "codemirror_mode": {
    "name": "ipython",
    "version": 3
   },
   "file_extension": ".py",
   "mimetype": "text/x-python",
   "name": "python",
   "nbconvert_exporter": "python",
   "pygments_lexer": "ipython3",
   "version": "3.8.8"
  }
 },
 "nbformat": 4,
 "nbformat_minor": 5
}
