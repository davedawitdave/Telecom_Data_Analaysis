{
 "cells": [
  {
   "cell_type": "code",
   "execution_count": 6,
   "id": "dfdab89a",
   "metadata": {},
   "outputs": [],
   "source": [
    "import numpy as np \n",
    "import pandas as pd \n",
    "import seaborn as sns\n",
    "import matplotlib.pyplot as plt\n",
    "import sys\n",
    "sys.path.append(\"..\")\n",
    "from scripts.missing_percentage import percent_missing\n",
    "from scripts.missing_filler import Cleaner as Cleaner\n",
    "from scripts.data_summry import Summery as summery\n",
    "from scripts.outlier import *\n",
    "from scripts.type_format import *\n",
    "\n",
    "cleaner = Cleaner()\n",
    "summery = summery()\n",
    "import os \n",
    "import warnings "
   ]
  },
  {
   "cell_type": "code",
   "execution_count": 7,
   "id": "f77a9028",
   "metadata": {},
   "outputs": [],
   "source": [
    "warnings.filterwarnings('ignore')"
   ]
  },
  {
   "cell_type": "code",
   "execution_count": 8,
   "id": "410a11f1",
   "metadata": {},
   "outputs": [],
   "source": [
    "#set path for files\n",
    "\n",
    "parent_dir = os.path.abspath(os.path.join(os.getcwd(), os.pardir)) # setting path to parent directory\n",
    "scripts_dir = os.path.join(parent_dir,\"scripts\") # setting path to scripts directory\n",
    "data_path = os.path.join(parent_dir,\"data\",\"telecom_clean_data.csv\") # setting path to data directory\n",
    "\n",
    "sys.path.insert(1, scripts_dir)"
   ]
  },
  {
   "cell_type": "code",
   "execution_count": 11,
   "id": "1f29d9bf",
   "metadata": {},
   "outputs": [],
   "source": [
    "data_uo=pd.read_csv(data_path)"
   ]
  },
  {
   "cell_type": "code",
   "execution_count": null,
   "id": "9d5351be",
   "metadata": {},
   "outputs": [],
   "source": []
  }
 ],
 "metadata": {
  "kernelspec": {
   "display_name": "Python 3 (ipykernel)",
   "language": "python",
   "name": "python3"
  },
  "language_info": {
   "codemirror_mode": {
    "name": "ipython",
    "version": 3
   },
   "file_extension": ".py",
   "mimetype": "text/x-python",
   "name": "python",
   "nbconvert_exporter": "python",
   "pygments_lexer": "ipython3",
   "version": "3.8.8"
  }
 },
 "nbformat": 4,
 "nbformat_minor": 5
}
