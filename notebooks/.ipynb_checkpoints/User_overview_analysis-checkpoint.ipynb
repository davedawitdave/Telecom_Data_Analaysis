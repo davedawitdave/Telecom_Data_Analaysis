{
 "cells": [
  {
   "cell_type": "markdown",
   "id": "54c90d26",
   "metadata": {},
   "source": [
    "# User overview analysis"
   ]
  },
  {
   "cell_type": "code",
   "execution_count": null,
   "id": "dfdab89a",
   "metadata": {},
   "outputs": [],
   "source": [
    "import numpy as np \n",
    "import pandas as pd \n",
    "import seaborn as sns\n",
    "import matplotlib.pyplot as plt\n",
    "import sys\n",
    "sys.path.append(\"..\")\n",
    "from scripts.missing_percentage import percent_missing\n",
    "from scripts.missing_filler import Cleaner as Cleaner\n",
    "from scripts.data_summry import Summery as summery\n",
    "from scripts.outlier import *\n",
    "from scripts.type_format import Format as formater\n",
    "import seaborn as sns\n",
    "\n",
    "cleaner = Cleaner()\n",
    "summery = summery()\n",
    "formater=formater()\n",
    "import os \n",
    "import warnings "
   ]
  },
  {
   "cell_type": "code",
   "execution_count": null,
   "id": "07d96b38",
   "metadata": {},
   "outputs": [],
   "source": [
    "warnings.filterwarnings('ignore')"
   ]
  },
  {
   "cell_type": "code",
   "execution_count": null,
   "id": "4be8fe56",
   "metadata": {},
   "outputs": [],
   "source": [
    "#set path for files\n",
    "\n",
    "parent_dir = os.path.abspath(os.path.join(os.getcwd(), os.pardir)) # setting path to parent directory\n",
    "scripts_dir = os.path.join(parent_dir,\"scripts\") # setting path to scripts directory\n",
    "data_path = os.path.join(parent_dir,\"data\",\"telecom_clean_data.csv\") # setting path to data directory\n",
    "\n",
    "sys.path.insert(1, scripts_dir)"
   ]
  },
  {
   "cell_type": "code",
   "execution_count": null,
   "id": "af842f62",
   "metadata": {},
   "outputs": [],
   "source": [
    "clean_data=pd.read_csv(data_path)"
   ]
  },
  {
   "cell_type": "markdown",
   "id": "6526c872",
   "metadata": {},
   "source": [
    "## Exploration of the data Handset type and Handset manufacture "
   ]
  },
  {
   "cell_type": "code",
   "execution_count": null,
   "id": "dd71bad5",
   "metadata": {},
   "outputs": [],
   "source": [
    "# Finding out the top 10 handset used by customers\n",
    "\n",
    "handsets_df=clean_data['Handset Type'].value_counts()[:10].plot(kind='barh', title=\"The top 10 handset used by customers\")"
   ]
  },
  {
   "cell_type": "code",
   "execution_count": null,
   "id": "77cc71ef",
   "metadata": {},
   "outputs": [],
   "source": [
    "# finding top 3 handset manufacturer used by customers\n",
    "Handset_manufacturer_df=clean_data['Handset Manufacturer'].value_counts()[:3]"
   ]
  },
  {
   "cell_type": "code",
   "execution_count": null,
   "id": "7caf4e12",
   "metadata": {},
   "outputs": [],
   "source": [
    "Handset_manufacturer_df"
   ]
  },
  {
   "cell_type": "code",
   "execution_count": null,
   "id": "6d7e5672",
   "metadata": {},
   "outputs": [],
   "source": [
    "label = [\"Apple\", \"Samsung\", \"Huawei\"]\n",
    "\n",
    "\n",
    "plt.pie(Handset_manufacturer_df, labels=label, autopct = '%1.1f%%')\n",
    "plt.title(\"The top 3 handset manufacturer used by customers\")\n",
    "plt.show() \n"
   ]
  },
  {
   "cell_type": "code",
   "execution_count": null,
   "id": "74776bda",
   "metadata": {},
   "outputs": [],
   "source": [
    "# Finding out top 5 handset for Apple company\n",
    "handset_manu_group= clean_data.groupby(['Handset Manufacturer'])\n",
    "handset_manu_group.get_group('Apple')['Handset Type'].value_counts()[:5].plot(kind='barh', title=\"The top 5 handset for Apple company\")\n",
    "\n"
   ]
  },
  {
   "cell_type": "code",
   "execution_count": null,
   "id": "0a4f4202",
   "metadata": {},
   "outputs": [],
   "source": [
    "handset_manu_group.get_group('Apple')['Handset Type'].value_counts()[:5]"
   ]
  },
  {
   "cell_type": "code",
   "execution_count": null,
   "id": "72ad43a1",
   "metadata": {},
   "outputs": [],
   "source": [
    "#the second one is sumsung\n",
    "#finding out top 5 handset for Samsung company\n",
    "handset_manu_group= clean_data.groupby(['Handset Manufacturer'])\n",
    "handset_manu_group.get_group('Samsung')['Handset Type'].value_counts()[:5].plot(kind='barh', title=\"The top 5 handset for Samsung company\")\n",
    "\n"
   ]
  },
  {
   "cell_type": "code",
   "execution_count": null,
   "id": "fa8ca154",
   "metadata": {},
   "outputs": [],
   "source": [
    "#the third one is Huawei\n",
    "#finding out top 5 handset for Huawei company\n",
    "handset_manu_group= clean_data.groupby(['Handset Manufacturer'])\n",
    "handset_manu_group.get_group('Huawei')['Handset Type'].value_counts()[:5].plot(kind='barh', title=\"The top 5 handset for Huawei company\")\n",
    "\n"
   ]
  },
  {
   "cell_type": "markdown",
   "id": "1403226b",
   "metadata": {},
   "source": [
    "## Observation "
   ]
  },
  {
   "cell_type": "markdown",
   "id": "523d9bff",
   "metadata": {},
   "source": [
    "1.The most frequently used handset is Huawei B5285-23A about twice the second frequently used (Apple iPhone 6S) and  \n",
    "the third frequently used handset (Apple iPhone 6).\n",
    "\n",
    "2.Apple is the biggest Handset manufacturer, Samsung is the second.Huawei takes the third place.\n"
   ]
  },
  {
   "cell_type": "markdown",
   "id": "42d712cb",
   "metadata": {},
   "source": [
    "# Data Aggregation per user"
   ]
  },
  {
   "cell_type": "code",
   "execution_count": null,
   "id": "f63cf69f",
   "metadata": {},
   "outputs": [],
   "source": [
    "# to select the unique values for xDR sessions\n",
    "summery.summ_columns(clean_data)"
   ]
  },
  {
   "cell_type": "code",
   "execution_count": null,
   "id": "dee8a5c4",
   "metadata": {},
   "outputs": [],
   "source": [
    "list(clean_data.columns.values)"
   ]
  },
  {
   "cell_type": "code",
   "execution_count": null,
   "id": "20c927cd",
   "metadata": {},
   "outputs": [],
   "source": [
    "\n"
   ]
  },
  {
   "cell_type": "code",
   "execution_count": null,
   "id": "a42073c5",
   "metadata": {},
   "outputs": [],
   "source": [
    "#taking \"MSISDN/Number\" as a user\n",
    "\n",
    "clean_data['Total_transmit'] = clean_data['Total UL (Bytes)'] + clean_data['Total DL (Bytes)']\n",
    "clean_data['Other_transmit'] = clean_data['Other UL (Bytes)'] + clean_data['Other DL (Bytes)']\n",
    "clean_data['AVG RTT']=clean_data['Avg RTT DL (ms)']+clean_data['Avg RTT UL (ms)']\n",
    "clean_data['AVG Bearer TP']=clean_data['Avg Bearer TP DL (kbps)']+clean_data['Avg Bearer TP UL (kbps)']\n",
    "clean_data['Gaming'] = clean_data['Gaming UL (Bytes)'] + clean_data['Gaming DL (Bytes)']\n",
    "clean_data['Netflix'] = clean_data['Netflix UL (Bytes)'] + clean_data['Netflix DL (Bytes)']\n",
    "clean_data['Youtube'] = clean_data['Youtube UL (Bytes)'] + clean_data['Youtube DL (Bytes)']\n",
    "clean_data['Email'] = clean_data['Email UL (Bytes)'] + clean_data['Email DL (Bytes)']\n",
    "clean_data['Google'] = clean_data['Google UL (Bytes)'] + clean_data['Google DL (Bytes)']\n",
    "clean_data['Social Media'] = clean_data['Social Media UL (Bytes)'] + clean_data['Social Media DL (Bytes)']\n",
    "clean_data.head()\n",
    "\n"
   ]
  },
  {
   "cell_type": "code",
   "execution_count": null,
   "id": "7aa9cb18",
   "metadata": {},
   "outputs": [],
   "source": [
    "# Creating new relevant columns\n",
    "\n",
    "new_rel_column = ['Bearer Id','Dur. (ms)','Handset Type','MSISDN/Number','AVG RTT', 'AVG Bearer TP','Total_transmit','Other_transmit','Gaming','Netflix','Youtube','Email','Google','Social Media']\n",
    "user_data_overview = clean_data[new_rel_column]\n",
    "user_data_overview.head()\n",
    "    "
   ]
  },
  {
   "cell_type": "code",
   "execution_count": 131,
   "id": "05bb4a09",
   "metadata": {},
   "outputs": [
    {
     "ename": "NameError",
     "evalue": "name 'formater' is not defined",
     "output_type": "error",
     "traceback": [
      "\u001b[1;31m---------------------------------------------------------------------------\u001b[0m",
      "\u001b[1;31mNameError\u001b[0m                                 Traceback (most recent call last)",
      "\u001b[1;32m~\\AppData\\Local\\Temp/ipykernel_4584/3132682211.py\u001b[0m in \u001b[0;36m<module>\u001b[1;34m\u001b[0m\n\u001b[0;32m      1\u001b[0m \u001b[1;31m# Converting Bytes to MB.\u001b[0m\u001b[1;33m\u001b[0m\u001b[1;33m\u001b[0m\u001b[1;33m\u001b[0m\u001b[0m\n\u001b[1;32m----> 2\u001b[1;33m \u001b[0muser_data_overview\u001b[0m\u001b[1;33m=\u001b[0m\u001b[0mformater\u001b[0m\u001b[1;33m.\u001b[0m\u001b[0mbyte_to_mb\u001b[0m\u001b[1;33m(\u001b[0m\u001b[0muser_data_overview\u001b[0m\u001b[1;33m,\u001b[0m \u001b[1;34m\"(Bytes)\"\u001b[0m\u001b[1;33m)\u001b[0m\u001b[1;33m\u001b[0m\u001b[1;33m\u001b[0m\u001b[0m\n\u001b[0m\u001b[0;32m      3\u001b[0m \u001b[1;31m# Converting ms to s\u001b[0m\u001b[1;33m\u001b[0m\u001b[1;33m\u001b[0m\u001b[1;33m\u001b[0m\u001b[0m\n\u001b[0;32m      4\u001b[0m \u001b[1;33m\u001b[0m\u001b[0m\n\u001b[0;32m      5\u001b[0m \u001b[0muser_data_overview\u001b[0m\u001b[1;33m=\u001b[0m\u001b[0mformater\u001b[0m\u001b[1;33m.\u001b[0m\u001b[0mms_to_s\u001b[0m\u001b[1;33m(\u001b[0m\u001b[0muser_data_overview\u001b[0m\u001b[1;33m,\u001b[0m \u001b[1;34m\"(ms)\"\u001b[0m\u001b[1;33m)\u001b[0m\u001b[1;33m\u001b[0m\u001b[1;33m\u001b[0m\u001b[0m\n",
      "\u001b[1;31mNameError\u001b[0m: name 'formater' is not defined"
     ]
    }
   ],
   "source": [
    "\n",
    "# Converting Bytes to MB.\n",
    "user_data_overview=formater.byte_to_mb(user_data_overview, \"(Bytes)\")\n",
    "# Converting ms to s\n",
    "\n",
    "user_data_overview=formater.ms_to_s(user_data_overview, \"(ms)\")\n",
    "\n",
    "\n",
    "sumar.summ_columns(user_data_overview)"
   ]
  },
  {
   "cell_type": "code",
   "execution_count": null,
   "id": "5dc4619d",
   "metadata": {},
   "outputs": [],
   "source": [
    "clean_data['Total_Data_usage'] = clean_data[temp(2)] + clean_data[temp(3)]\n",
    "def find_agg(self, df, group_columns, agg_columns, agg_metrics, new_columns):\n",
    "        \"\"\"\n",
    "        a function that returns a new dataframe with aggregate values of specified columns.\n",
    "        \"\"\"\n",
    "        new_column_dict ={}\n",
    "        agg_dict = {}\n",
    "        for i in range(len(agg_columns)):\n",
    "            new_column_dict[agg_columns[i]] = new_columns[i]\n",
    "            agg_dict[agg_columns[i]] = agg_metrics[i]\n",
    "\n",
    "        new_df = df.groupby(group_columns).agg(agg_dict).reset_index().rename(columns=new_column_dict)\n",
    "        return new_df\n",
    "    \n",
    "    \n",
    "aggr_lis = [\"Bearer Id\",\"Dur. (S)\", \"Handset Type\", \"Avg RTT DL (S)\", \n",
    "            \"Avg RTT UL (S)\", \"Avg Bearer TP DL (kbps)\", \"Avg Bearer TP UL (kbps)\", \n",
    "            \"TCP DL Retrans. Vol (MB)\", \"TCP UL Retrans. Vol (MB)\",\"Total DL (MB)\",\n",
    "            \"Total UL (MB)\", \"Social Media DL (MB)\", \"Social Media UL (MB)\",\n",
    "            \"Youtube DL (MB)\", \"Youtube UL (MB)\", \"Netflix DL (MB)\", \"Netflix UL (MB)\",\n",
    "            \"Google DL (MB)\", \"Google UL (MB)\",\"Gaming DL (MB)\",\"Gaming UL (MB)\", \n",
    "            \"Email DL (MB)\", \"Email UL (MB)\", \"Other DL (MB)\", \"Other UL (MB)\"]\n",
    "metric_lis = [\"count\", \"sum\", pd.Series.mode, \"sum\",\"sum\", \"sum\", \"sum\", \"sum\", \"sum\",\n",
    "              \"sum\", \"sum\", \"sum\", \"sum\", \"sum\",\"sum\", \"sum\",\"sum\", \"sum\",\"sum\", \"sum\",\n",
    "              \"sum\",\"sum\", \"sum\", \"sum\", \"sum\"]\n",
    "\n",
    "col_names = [\"xDr_session_count\", \"session_dur\", \"Handset\", \"RTT DL (S)\", \"RTT UL (S)\", \n",
    "             \"TP DL (kbps)\", \"TP UL (kbps)\", \"TCP DL Retrans (MB)\", \n",
    "             \"TCP UL Retrans (MB)\",\"Total_DL\", \"Total_UL\",\n",
    "             \"Social_DL\", \"Social_UL\",\"Youtube_DL\", \"Youtube_UL\", \"Netflix_DL\",\n",
    "             \"Netflix_UL\", \"Google_DL\", \"Google_UL\", \"Gaming_DL\", \"Gaming_UL\", \n",
    "             \"Email_DL\", \"Email_UL\", \"Other_DL\", \"Other_UL\"]\n",
    "\n",
    "\n",
    "aggr_df = sumar.find_agg(clean_df, grouping_lis, aggr_lis, metric_lis, col_names)\n",
    "\n",
    "agg_data=clean_data.groupby(\"MSISDN/Number\").agg(aggr_lis).rename(columns=col_names)"
   ]
  },
  {
   "cell_type": "code",
   "execution_count": null,
   "id": "ea685aac",
   "metadata": {},
   "outputs": [],
   "source": []
  }
 ],
 "metadata": {
  "kernelspec": {
   "display_name": "Python 3 (ipykernel)",
   "language": "python",
   "name": "python3"
  },
  "language_info": {
   "codemirror_mode": {
    "name": "ipython",
    "version": 3
   },
   "file_extension": ".py",
   "mimetype": "text/x-python",
   "name": "python",
   "nbconvert_exporter": "python",
   "pygments_lexer": "ipython3",
   "version": "3.8.8"
  }
 },
 "nbformat": 4,
 "nbformat_minor": 5
}
