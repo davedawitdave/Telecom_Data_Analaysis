{
 "cells": [
  {
   "cell_type": "markdown",
   "id": "0aaffcd2",
   "metadata": {},
   "source": [
    "# User Engagement Analysis"
   ]
  },
  {
   "cell_type": "code",
   "execution_count": 3,
   "id": "61e5b4ba",
   "metadata": {},
   "outputs": [],
   "source": [
    "import pandas as pd\n",
    "import numpy as np\n",
    "import os\n",
    "import warnings\n",
    "import matplotlib.pyplot as plt\n",
    "import seaborn as sns\n",
    "import sys\n",
    "sys.path.append(\"..\")\n",
    "from models.all_models import MLmodels as md\n",
    "from sklearn.preprocessing import StandardScaler\n",
    "from sklearn.cluster import KMeans\n",
    "from mpl_toolkits.mplot3d import Axes3D\n",
    "\n",
    "md = md()\n"
   ]
  },
  {
   "cell_type": "code",
   "execution_count": 4,
   "id": "9734c7da",
   "metadata": {},
   "outputs": [],
   "source": [
    "warnings.filterwarnings('ignore')\n"
   ]
  },
  {
   "cell_type": "code",
   "execution_count": 9,
   "id": "38168c49",
   "metadata": {},
   "outputs": [],
   "source": [
    "parent_dir = os.path.abspath(os.path.join(os.getcwd(), os.pardir)) \n",
    "scripts_dir = os.path.join(parent_dir,\"scripts\") \n",
    "data_path = os.path.join(parent_dir,\"data\",\"telecom_clean_data.csv\")\n",
    "data_path2 = os.path.join(parent_dir,\"data\",\"user_overview_clean_data.csv\")\n",
    "sys.path.insert(1, scripts_dir)"
   ]
  },
  {
   "cell_type": "code",
   "execution_count": 10,
   "id": "1adb5ca7",
   "metadata": {},
   "outputs": [],
   "source": [
    "session_data=pd.read_csv(data_path2)"
   ]
  },
  {
   "cell_type": "code",
   "execution_count": 13,
   "id": "deb9bfe5",
   "metadata": {},
   "outputs": [
    {
     "name": "stdout",
     "output_type": "stream",
     "text": [
      "<class 'pandas.core.frame.DataFrame'>\n",
      "RangeIndex: 106471 entries, 0 to 106470\n",
      "Data columns (total 14 columns):\n",
      " #   Column               Non-Null Count   Dtype  \n",
      "---  ------               --------------   -----  \n",
      " 0   Num_of_xDR_sessions  106471 non-null  int64  \n",
      " 1   session_duration     106471 non-null  float64\n",
      " 2   Handset Type         106471 non-null  object \n",
      " 3   AVG RTT (S)          106471 non-null  float64\n",
      " 4   AVG Bearer TP        106471 non-null  float64\n",
      " 5   sec with vol<6.25kb  106471 non-null  float64\n",
      " 6   Total_transmit       106471 non-null  float64\n",
      " 7   Other_transmit       106471 non-null  float64\n",
      " 8   Gaming               106471 non-null  float64\n",
      " 9   Netflix              106471 non-null  float64\n",
      " 10  Youtube              106471 non-null  float64\n",
      " 11  Email                106471 non-null  float64\n",
      " 12  Google               106471 non-null  float64\n",
      " 13  Social Media         106471 non-null  float64\n",
      "dtypes: float64(12), int64(1), object(1)\n",
      "memory usage: 11.4+ MB\n"
     ]
    }
   ],
   "source": [
    "session_data.info()"
   ]
  },
  {
   "cell_type": "code",
   "execution_count": 11,
   "id": "c2c5d1c0",
   "metadata": {},
   "outputs": [],
   "source": [
    "user_engeg_data=pd.read_csv(data_path)"
   ]
  },
  {
   "cell_type": "code",
   "execution_count": null,
   "id": "ba252303",
   "metadata": {
    "scrolled": true
   },
   "outputs": [],
   "source": []
  },
  {
   "cell_type": "code",
   "execution_count": null,
   "id": "c8020c3e",
   "metadata": {},
   "outputs": [],
   "source": [
    "engagment_metrices=['session frequency','session duration','data volume']"
   ]
  },
  {
   "cell_type": "code",
   "execution_count": null,
   "id": "0e5affab",
   "metadata": {},
   "outputs": [],
   "source": [
    "user_engegment_data="
   ]
  },
  {
   "cell_type": "markdown",
   "id": "7cef72f9",
   "metadata": {},
   "source": [
    "# Preprocessing User Engagment Data"
   ]
  },
  {
   "cell_type": "code",
   "execution_count": null,
   "id": "a4b22a4f",
   "metadata": {},
   "outputs": [],
   "source": [
    "#top_ten engagment before Normalization "
   ]
  },
  {
   "cell_type": "code",
   "execution_count": null,
   "id": "61026a5d",
   "metadata": {},
   "outputs": [],
   "source": [
    "#apply Noramlization "
   ]
  },
  {
   "cell_type": "code",
   "execution_count": null,
   "id": "11b595ff",
   "metadata": {},
   "outputs": [],
   "source": [
    "#top_ten engagment after Normalization "
   ]
  },
  {
   "cell_type": "code",
   "execution_count": null,
   "id": "8600bd5f",
   "metadata": {},
   "outputs": [],
   "source": [
    "#k-means"
   ]
  },
  {
   "cell_type": "code",
   "execution_count": null,
   "id": "2e5a039c",
   "metadata": {},
   "outputs": [],
   "source": []
  },
  {
   "cell_type": "code",
   "execution_count": null,
   "id": "648a926f",
   "metadata": {},
   "outputs": [],
   "source": []
  },
  {
   "cell_type": "code",
   "execution_count": null,
   "id": "3beae24d",
   "metadata": {},
   "outputs": [],
   "source": []
  },
  {
   "cell_type": "code",
   "execution_count": null,
   "id": "1700ed0d",
   "metadata": {},
   "outputs": [],
   "source": []
  },
  {
   "cell_type": "code",
   "execution_count": null,
   "id": "e84b6021",
   "metadata": {},
   "outputs": [],
   "source": []
  },
  {
   "cell_type": "code",
   "execution_count": null,
   "id": "0525e21c",
   "metadata": {},
   "outputs": [],
   "source": []
  }
 ],
 "metadata": {
  "kernelspec": {
   "display_name": "Python 3 (ipykernel)",
   "language": "python",
   "name": "python3"
  },
  "language_info": {
   "codemirror_mode": {
    "name": "ipython",
    "version": 3
   },
   "file_extension": ".py",
   "mimetype": "text/x-python",
   "name": "python",
   "nbconvert_exporter": "python",
   "pygments_lexer": "ipython3",
   "version": "3.8.8"
  }
 },
 "nbformat": 4,
 "nbformat_minor": 5
}
