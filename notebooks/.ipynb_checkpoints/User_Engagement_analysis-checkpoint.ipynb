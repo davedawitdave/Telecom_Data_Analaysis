{
 "cells": [
  {
   "cell_type": "markdown",
   "id": "0aaffcd2",
   "metadata": {},
   "source": [
    "# User Engagement Analysis"
   ]
  },
  {
   "cell_type": "code",
   "execution_count": 1,
   "id": "61e5b4ba",
   "metadata": {},
   "outputs": [],
   "source": [
    "import pandas as pd\n",
    "import numpy as np\n",
    "import os\n",
    "import warnings\n",
    "import matplotlib.pyplot as plt\n",
    "import seaborn as sns\n",
    "import sys\n",
    "sys.path.append(\"..\")\n",
    "from models.all_models import MLmodels as md\n",
    "from sklearn.preprocessing import StandardScaler\n",
    "from sklearn.cluster import KMeans\n",
    "from mpl_toolkits.mplot3d import Axes3D\n",
    "\n",
    "md = md()\n"
   ]
  },
  {
   "cell_type": "code",
   "execution_count": 2,
   "id": "9734c7da",
   "metadata": {},
   "outputs": [],
   "source": [
    "warnings.filterwarnings('ignore')\n"
   ]
  },
  {
   "cell_type": "code",
   "execution_count": 3,
   "id": "38168c49",
   "metadata": {},
   "outputs": [],
   "source": [
    "parent_dir = os.path.abspath(os.path.join(os.getcwd(), os.pardir)) \n",
    "scripts_dir = os.path.join(parent_dir,\"scripts\") \n",
    "data_path = os.path.join(parent_dir,\"data\",\"telecom_clean_data.csv\")\n",
    "data_path2 = os.path.join(parent_dir,\"data\",\"user_overview_clean_data.csv\")\n",
    "data_path3 = os.path.join(parent_dir,\"data\",\"session_data.csv\")\n",
    "sys.path.insert(1, scripts_dir)"
   ]
  },
  {
   "cell_type": "code",
   "execution_count": 4,
   "id": "8e607b7f",
   "metadata": {},
   "outputs": [],
   "source": [
    "user_engegment_data=pd.read_csv(data_path3)"
   ]
  },
  {
   "cell_type": "code",
   "execution_count": 5,
   "id": "d507df09",
   "metadata": {},
   "outputs": [
    {
     "name": "stdout",
     "output_type": "stream",
     "text": [
      "<class 'pandas.core.frame.DataFrame'>\n",
      "RangeIndex: 106471 entries, 0 to 106470\n",
      "Data columns (total 15 columns):\n",
      " #   Column               Non-Null Count   Dtype  \n",
      "---  ------               --------------   -----  \n",
      " 0   MSISDN/Number        106471 non-null  float64\n",
      " 1   Num_of_xDR_sessions  106471 non-null  int64  \n",
      " 2   session_duration     106471 non-null  float64\n",
      " 3   Handset Type         106471 non-null  object \n",
      " 4   AVG RTT (S)          106471 non-null  float64\n",
      " 5   AVG Bearer TP        106471 non-null  float64\n",
      " 6   sec with vol<6.25kb  106471 non-null  float64\n",
      " 7   Total_transmit       106471 non-null  float64\n",
      " 8   Other_transmit       106471 non-null  float64\n",
      " 9   Gaming               106471 non-null  float64\n",
      " 10  Netflix              106471 non-null  float64\n",
      " 11  Youtube              106471 non-null  float64\n",
      " 12  Email                106471 non-null  float64\n",
      " 13  Google               106471 non-null  float64\n",
      " 14  Social Media         106471 non-null  float64\n",
      "dtypes: float64(13), int64(1), object(1)\n",
      "memory usage: 12.2+ MB\n"
     ]
    }
   ],
   "source": [
    "user_engegment_data.info()"
   ]
  },
  {
   "cell_type": "markdown",
   "id": "14b95721",
   "metadata": {},
   "source": [
    "### Showing top 10 users"
   ]
  },
  {
   "cell_type": "code",
   "execution_count": 6,
   "id": "380db358",
   "metadata": {},
   "outputs": [],
   "source": [
    "#relevant variables for analysing user engagment \n",
    "engagment_metrices=['Num_of_xDR_sessions','session_duration','Total_transmit']"
   ]
  },
  {
   "cell_type": "code",
   "execution_count": 7,
   "id": "ed1cc8c8",
   "metadata": {
    "scrolled": true
   },
   "outputs": [
    {
     "name": "stdout",
     "output_type": "stream",
     "text": [
      "\n",
      "Top 10 customers based on Num_of_xDR_sessions\n",
      "\n",
      "       MSISDN/Number  Num_of_xDR_sessions\n",
      "13467   3.362632e+10                   18\n",
      "6404    3.361489e+10                   17\n",
      "13123   3.362578e+10                   17\n",
      "36909   3.365973e+10                   16\n",
      "92584   3.376054e+10                   15\n",
      "76077   3.367588e+10                   15\n",
      "64883   3.366716e+10                   13\n",
      "1270    3.360452e+10                   12\n",
      "92239   3.376041e+10                   12\n",
      "658     3.360313e+10                   12\n",
      "\n",
      "Top 10 customers based on session_duration\n",
      "\n",
      "       MSISDN/Number  session_duration\n",
      "13123   3.362578e+10         18553.754\n",
      "6404    3.361489e+10          9966.898\n",
      "92584   3.376054e+10          9279.434\n",
      "13467   3.362632e+10          8791.927\n",
      "64883   3.366716e+10          8744.914\n",
      "50096   3.366284e+10          6614.270\n",
      "56951   3.366469e+10          6288.730\n",
      "658     3.360313e+10          6287.761\n",
      "65787   3.366746e+10          5649.882\n",
      "92239   3.376041e+10          5321.667\n",
      "\n",
      "Top 10 customers based on Total_transmit\n",
      "\n",
      "       MSISDN/Number  Total_transmit\n",
      "6404    3.361489e+10    8.846226e+09\n",
      "92584   3.376054e+10    8.514774e+09\n",
      "13123   3.362578e+10    8.499621e+09\n",
      "13467   3.362632e+10    7.971167e+09\n",
      "76077   3.367588e+10    7.891111e+09\n",
      "36909   3.365973e+10    7.705863e+09\n",
      "62804   3.366646e+10    7.308501e+09\n",
      "92239   3.376041e+10    7.132371e+09\n",
      "57032   3.366471e+10    6.872018e+09\n",
      "86138   3.369879e+10    6.540899e+09\n"
     ]
    }
   ],
   "source": [
    "#top_ten engagment   bsed on session frequency, session duration and toral volume\n",
    "for cols in range(len(engagment_metrices)):\n",
    "    print(\"\\nTop 10 customers based on \"+engagment_metrices[cols]+\"\\n\")\n",
    "    print(user_engegment_data.sort_values(by=engagment_metrices[cols], ascending=False).loc[:,['MSISDN/Number',engagment_metrices[cols]]].head(10))"
   ]
  },
  {
   "cell_type": "code",
   "execution_count": null,
   "id": "b2aca4f6",
   "metadata": {},
   "outputs": [],
   "source": []
  },
  {
   "cell_type": "code",
   "execution_count": 8,
   "id": "1c3d0c2e",
   "metadata": {},
   "outputs": [],
   "source": [
    "#creating relevant features \n",
    "user_engegment_data['total volume']=user_engegment_data['Other_transmit']+user_engegment_data['Gaming']+user_engegment_data['Netflix']+user_engegment_data['Youtube']+user_engegment_data['Email']+user_engegment_data['Google']+user_engegment_data['Social Media']\n",
    "user_engegment_data['session frequency']=user_engegment_data['Num_of_xDR_sessions']\n",
    "user_engegment_data['session duration']=user_engegment_data['session_duration']\n",
    "engagment_metrices=['session frequency','session duration','total volume']\n",
    "\n",
    "user_engegment_data=user_engegment_data[engagment_metrices]"
   ]
  },
  {
   "cell_type": "code",
   "execution_count": 9,
   "id": "933df4a5",
   "metadata": {},
   "outputs": [
    {
     "name": "stdout",
     "output_type": "stream",
     "text": [
      "<class 'pandas.core.frame.DataFrame'>\n",
      "RangeIndex: 106471 entries, 0 to 106470\n",
      "Data columns (total 3 columns):\n",
      " #   Column             Non-Null Count   Dtype  \n",
      "---  ------             --------------   -----  \n",
      " 0   session frequency  106471 non-null  int64  \n",
      " 1   session duration   106471 non-null  float64\n",
      " 2   total volume       106471 non-null  float64\n",
      "dtypes: float64(2), int64(1)\n",
      "memory usage: 2.4 MB\n"
     ]
    }
   ],
   "source": [
    "user_engegment_data.info()"
   ]
  },
  {
   "cell_type": "markdown",
   "id": "1f6a35b6",
   "metadata": {},
   "source": [
    "# Preprocessing User Engagment Data"
   ]
  },
  {
   "cell_type": "code",
   "execution_count": 12,
   "id": "88ad5775",
   "metadata": {},
   "outputs": [
    {
     "data": {
      "text/plain": [
       "array([[-0.48922805, -0.16000857, -0.02753859],\n",
       "       [-0.48922805,  0.18577498, -1.00195503],\n",
       "       [-0.48922805, -0.06219111, -0.22344525],\n",
       "       ...,\n",
       "       [-0.48922805,  3.91727312, -0.68873104],\n",
       "       [-0.48922805,  0.57063405, -0.64016328],\n",
       "       [-0.48922805,  3.8768522 , -0.89266989]])"
      ]
     },
     "execution_count": 12,
     "metadata": {},
     "output_type": "execute_result"
    }
   ],
   "source": [
    "#Normalizing basic Enagement metric features\n",
    "normalized_user_engegment_data  = user_engegment_data.loc[:,engagment_metrices].values\n",
    "normalized_user_engegment_data = StandardScaler().fit_transform(normalized_user_engegment_data)\n",
    "normalized_user_engegment_data"
   ]
  },
  {
   "cell_type": "code",
   "execution_count": 15,
   "id": "5628ecd9",
   "metadata": {},
   "outputs": [
    {
     "data": {
      "text/plain": [
       "(-1.953134412179116e-17, 1.0)"
      ]
     },
     "execution_count": 15,
     "metadata": {},
     "output_type": "execute_result"
    }
   ],
   "source": [
    "#check if the mean of Noramlization is 0 and std of 1\n",
    "np.mean(normalized_user_engegment_data), np.std(normalized_user_engegment_data)"
   ]
  },
  {
   "cell_type": "code",
   "execution_count": 21,
   "id": "87ffbda7",
   "metadata": {},
   "outputs": [
    {
     "data": {
      "text/plain": [
       "(   session frequency  session duration  total volume\n",
       " 0          -0.489228         -0.160009     -0.027539\n",
       " 1          -0.489228          0.185775     -1.001955\n",
       " 2          -0.489228         -0.062191     -0.223445\n",
       " 3          -0.489228         -0.518292     -0.988694\n",
       " 4           0.749944         -0.586763      1.137031,\n",
       " (106471, 3))"
      ]
     },
     "execution_count": 21,
     "metadata": {},
     "output_type": "execute_result"
    }
   ],
   "source": [
    "# after Normalization changing np array into dataframe\n",
    "normalized_user_engegment_data=pd.DataFrame(normalized_user_engegment_data, columns=engagment_metrices)\n",
    "normalized_user_engegment_data.head(), normalized_user_engegment_data.shape"
   ]
  },
  {
   "cell_type": "code",
   "execution_count": 23,
   "id": "8600bd5f",
   "metadata": {},
   "outputs": [
    {
     "data": {
      "text/plain": [
       "array([0, 0, 0, ..., 2, 0, 0])"
      ]
     },
     "execution_count": 23,
     "metadata": {},
     "output_type": "execute_result"
    }
   ],
   "source": [
    " # Fitting the data with kmeans of k=3\n",
    "kmeans = KMeans(3)\n",
    "kmeans.fit(normalized_user_engegment_data)\n",
    "clusters = kmeans.fit_predict(normalized_user_engegment_data)\n",
    "centroids = kmeans.cluster_centers_\n",
    "clusters\n"
   ]
  },
  {
   "cell_type": "code",
   "execution_count": 25,
   "id": "2e5a039c",
   "metadata": {},
   "outputs": [
    {
     "data": {
      "text/html": [
       "<div>\n",
       "<style scoped>\n",
       "    .dataframe tbody tr th:only-of-type {\n",
       "        vertical-align: middle;\n",
       "    }\n",
       "\n",
       "    .dataframe tbody tr th {\n",
       "        vertical-align: top;\n",
       "    }\n",
       "\n",
       "    .dataframe thead th {\n",
       "        text-align: right;\n",
       "    }\n",
       "</style>\n",
       "<table border=\"1\" class=\"dataframe\">\n",
       "  <thead>\n",
       "    <tr style=\"text-align: right;\">\n",
       "      <th></th>\n",
       "      <th>session frequency</th>\n",
       "      <th>session duration</th>\n",
       "      <th>total volume</th>\n",
       "      <th>cluster number</th>\n",
       "    </tr>\n",
       "  </thead>\n",
       "  <tbody>\n",
       "    <tr>\n",
       "      <th>0</th>\n",
       "      <td>-0.489228</td>\n",
       "      <td>-0.160009</td>\n",
       "      <td>-0.027539</td>\n",
       "      <td>0</td>\n",
       "    </tr>\n",
       "    <tr>\n",
       "      <th>1</th>\n",
       "      <td>-0.489228</td>\n",
       "      <td>0.185775</td>\n",
       "      <td>-1.001955</td>\n",
       "      <td>0</td>\n",
       "    </tr>\n",
       "    <tr>\n",
       "      <th>2</th>\n",
       "      <td>-0.489228</td>\n",
       "      <td>-0.062191</td>\n",
       "      <td>-0.223445</td>\n",
       "      <td>0</td>\n",
       "    </tr>\n",
       "    <tr>\n",
       "      <th>3</th>\n",
       "      <td>-0.489228</td>\n",
       "      <td>-0.518292</td>\n",
       "      <td>-0.988694</td>\n",
       "      <td>0</td>\n",
       "    </tr>\n",
       "    <tr>\n",
       "      <th>4</th>\n",
       "      <td>0.749944</td>\n",
       "      <td>-0.586763</td>\n",
       "      <td>1.137031</td>\n",
       "      <td>2</td>\n",
       "    </tr>\n",
       "    <tr>\n",
       "      <th>...</th>\n",
       "      <td>...</td>\n",
       "      <td>...</td>\n",
       "      <td>...</td>\n",
       "      <td>...</td>\n",
       "    </tr>\n",
       "    <tr>\n",
       "      <th>106466</th>\n",
       "      <td>-0.489228</td>\n",
       "      <td>-0.738423</td>\n",
       "      <td>-0.324553</td>\n",
       "      <td>0</td>\n",
       "    </tr>\n",
       "    <tr>\n",
       "      <th>106467</th>\n",
       "      <td>-0.489228</td>\n",
       "      <td>-0.029928</td>\n",
       "      <td>-0.706401</td>\n",
       "      <td>0</td>\n",
       "    </tr>\n",
       "    <tr>\n",
       "      <th>106468</th>\n",
       "      <td>-0.489228</td>\n",
       "      <td>3.917273</td>\n",
       "      <td>-0.688731</td>\n",
       "      <td>2</td>\n",
       "    </tr>\n",
       "    <tr>\n",
       "      <th>106469</th>\n",
       "      <td>-0.489228</td>\n",
       "      <td>0.570634</td>\n",
       "      <td>-0.640163</td>\n",
       "      <td>0</td>\n",
       "    </tr>\n",
       "    <tr>\n",
       "      <th>106470</th>\n",
       "      <td>-0.489228</td>\n",
       "      <td>3.876852</td>\n",
       "      <td>-0.892670</td>\n",
       "      <td>0</td>\n",
       "    </tr>\n",
       "  </tbody>\n",
       "</table>\n",
       "<p>106471 rows × 4 columns</p>\n",
       "</div>"
      ],
      "text/plain": [
       "        session frequency  session duration  total volume  cluster number\n",
       "0               -0.489228         -0.160009     -0.027539               0\n",
       "1               -0.489228          0.185775     -1.001955               0\n",
       "2               -0.489228         -0.062191     -0.223445               0\n",
       "3               -0.489228         -0.518292     -0.988694               0\n",
       "4                0.749944         -0.586763      1.137031               2\n",
       "...                   ...               ...           ...             ...\n",
       "106466          -0.489228         -0.738423     -0.324553               0\n",
       "106467          -0.489228         -0.029928     -0.706401               0\n",
       "106468          -0.489228          3.917273     -0.688731               2\n",
       "106469          -0.489228          0.570634     -0.640163               0\n",
       "106470          -0.489228          3.876852     -0.892670               0\n",
       "\n",
       "[106471 rows x 4 columns]"
      ]
     },
     "execution_count": 25,
     "metadata": {},
     "output_type": "execute_result"
    }
   ],
   "source": [
    "#add number of cluster into engement dataframe\n",
    "normalized_user_engegment_data['cluster number']=clusters\n",
    "normalized_user_engegment_data"
   ]
  },
  {
   "cell_type": "code",
   "execution_count": 31,
   "id": "648a926f",
   "metadata": {},
   "outputs": [
    {
     "data": {
      "text/html": [
       "<div>\n",
       "<style scoped>\n",
       "    .dataframe tbody tr th:only-of-type {\n",
       "        vertical-align: middle;\n",
       "    }\n",
       "\n",
       "    .dataframe tbody tr th {\n",
       "        vertical-align: top;\n",
       "    }\n",
       "\n",
       "    .dataframe thead th {\n",
       "        text-align: right;\n",
       "    }\n",
       "</style>\n",
       "<table border=\"1\" class=\"dataframe\">\n",
       "  <thead>\n",
       "    <tr style=\"text-align: right;\">\n",
       "      <th></th>\n",
       "      <th>xDR max</th>\n",
       "      <th>Dur max (S)</th>\n",
       "      <th>vol max</th>\n",
       "    </tr>\n",
       "  </thead>\n",
       "  <tbody>\n",
       "    <tr>\n",
       "      <th>0</th>\n",
       "      <td>2</td>\n",
       "      <td>1042.254</td>\n",
       "      <td>1.780674e+09</td>\n",
       "    </tr>\n",
       "    <tr>\n",
       "      <th>1</th>\n",
       "      <td>18</td>\n",
       "      <td>18553.754</td>\n",
       "      <td>1.634152e+10</td>\n",
       "    </tr>\n",
       "    <tr>\n",
       "      <th>2</th>\n",
       "      <td>4</td>\n",
       "      <td>1573.420</td>\n",
       "      <td>4.529200e+09</td>\n",
       "    </tr>\n",
       "  </tbody>\n",
       "</table>\n",
       "</div>"
      ],
      "text/plain": [
       "   xDR max  Dur max (S)       vol max\n",
       "0        2     1042.254  1.780674e+09\n",
       "1       18    18553.754  1.634152e+10\n",
       "2        4     1573.420  4.529200e+09"
      ]
     },
     "execution_count": 31,
     "metadata": {},
     "output_type": "execute_result"
    }
   ],
   "source": [
    "# aggregate each non normilized engement matrices by clusters\n",
    "#cluster by max\n",
    "cluster_by_max = pd.DataFrame()\n",
    "cluster_by_max['xDR max']=user_engegment_data.groupby([clusters])['session frequency'].agg('max')\n",
    "cluster_by_max['Dur max (S)']=user_engegment_data.groupby([clusters])['session duration'].agg('max')\n",
    "cluster_by_max['vol max']=user_engegment_data.groupby([clusters])['total volume'].agg('max')\n",
    "cluster_by_max\n"
   ]
  },
  {
   "cell_type": "code",
   "execution_count": 32,
   "id": "3beae24d",
   "metadata": {},
   "outputs": [
    {
     "data": {
      "text/html": [
       "<div>\n",
       "<style scoped>\n",
       "    .dataframe tbody tr th:only-of-type {\n",
       "        vertical-align: middle;\n",
       "    }\n",
       "\n",
       "    .dataframe tbody tr th {\n",
       "        vertical-align: top;\n",
       "    }\n",
       "\n",
       "    .dataframe thead th {\n",
       "        text-align: right;\n",
       "    }\n",
       "</style>\n",
       "<table border=\"1\" class=\"dataframe\">\n",
       "  <thead>\n",
       "    <tr style=\"text-align: right;\">\n",
       "      <th></th>\n",
       "      <th>xDR min</th>\n",
       "      <th>Dur min (S)</th>\n",
       "      <th>vol min</th>\n",
       "    </tr>\n",
       "  </thead>\n",
       "  <tbody>\n",
       "    <tr>\n",
       "      <th>0</th>\n",
       "      <td>1</td>\n",
       "      <td>7.142</td>\n",
       "      <td>5.836229e+07</td>\n",
       "    </tr>\n",
       "    <tr>\n",
       "      <th>1</th>\n",
       "      <td>2</td>\n",
       "      <td>66.594</td>\n",
       "      <td>1.109176e+09</td>\n",
       "    </tr>\n",
       "    <tr>\n",
       "      <th>2</th>\n",
       "      <td>1</td>\n",
       "      <td>18.235</td>\n",
       "      <td>3.600827e+08</td>\n",
       "    </tr>\n",
       "  </tbody>\n",
       "</table>\n",
       "</div>"
      ],
      "text/plain": [
       "   xDR min  Dur min (S)       vol min\n",
       "0        1        7.142  5.836229e+07\n",
       "1        2       66.594  1.109176e+09\n",
       "2        1       18.235  3.600827e+08"
      ]
     },
     "execution_count": 32,
     "metadata": {},
     "output_type": "execute_result"
    }
   ],
   "source": [
    "#cluster by min\n",
    "cluster_by_min = pd.DataFrame()\n",
    "cluster_by_min['xDR min']=user_engegment_data.groupby([clusters])['session frequency'].agg('min')\n",
    "cluster_by_min['Dur min (S)']=user_engegment_data.groupby([clusters])['session duration'].agg('min')\n",
    "cluster_by_min['vol min']=user_engegment_data.groupby([clusters])['total volume'].agg('min')\n",
    "cluster_by_min"
   ]
  },
  {
   "cell_type": "code",
   "execution_count": 33,
   "id": "1700ed0d",
   "metadata": {},
   "outputs": [
    {
     "data": {
      "text/html": [
       "<div>\n",
       "<style scoped>\n",
       "    .dataframe tbody tr th:only-of-type {\n",
       "        vertical-align: middle;\n",
       "    }\n",
       "\n",
       "    .dataframe tbody tr th {\n",
       "        vertical-align: top;\n",
       "    }\n",
       "\n",
       "    .dataframe thead th {\n",
       "        text-align: right;\n",
       "    }\n",
       "</style>\n",
       "<table border=\"1\" class=\"dataframe\">\n",
       "  <thead>\n",
       "    <tr style=\"text-align: right;\">\n",
       "      <th></th>\n",
       "      <th>xDR mean</th>\n",
       "      <th>Dur mean (S)</th>\n",
       "      <th>vol mean</th>\n",
       "    </tr>\n",
       "  </thead>\n",
       "  <tbody>\n",
       "    <tr>\n",
       "      <th>0</th>\n",
       "      <td>1.011725</td>\n",
       "      <td>103.123932</td>\n",
       "      <td>9.177192e+08</td>\n",
       "    </tr>\n",
       "    <tr>\n",
       "      <th>1</th>\n",
       "      <td>4.387662</td>\n",
       "      <td>646.102289</td>\n",
       "      <td>4.120536e+09</td>\n",
       "    </tr>\n",
       "    <tr>\n",
       "      <th>2</th>\n",
       "      <td>2.162648</td>\n",
       "      <td>209.452603</td>\n",
       "      <td>2.000047e+09</td>\n",
       "    </tr>\n",
       "  </tbody>\n",
       "</table>\n",
       "</div>"
      ],
      "text/plain": [
       "   xDR mean  Dur mean (S)      vol mean\n",
       "0  1.011725    103.123932  9.177192e+08\n",
       "1  4.387662    646.102289  4.120536e+09\n",
       "2  2.162648    209.452603  2.000047e+09"
      ]
     },
     "execution_count": 33,
     "metadata": {},
     "output_type": "execute_result"
    }
   ],
   "source": [
    "#cluster by mean\n",
    "cluster_by_mean = pd.DataFrame()\n",
    "cluster_by_mean['xDR mean']=user_engegment_data.groupby([clusters])['session frequency'].agg('mean')\n",
    "cluster_by_mean['Dur mean (S)']=user_engegment_data.groupby([clusters])['session duration'].agg('mean')\n",
    "cluster_by_mean['vol mean']=user_engegment_data.groupby([clusters])['total volume'].agg('mean')\n",
    "cluster_by_mean"
   ]
  },
  {
   "cell_type": "code",
   "execution_count": null,
   "id": "e84b6021",
   "metadata": {},
   "outputs": [],
   "source": [
    "#ploting clusters by max, min and mean\n",
    "figure, axis = plt.subplots(3, 3)\n",
    "for cols in range(len(engegment matrics)):\n",
    "    plt.pieplot"
   ]
  },
  {
   "cell_type": "code",
   "execution_count": null,
   "id": "0525e21c",
   "metadata": {},
   "outputs": [],
   "source": []
  }
 ],
 "metadata": {
  "kernelspec": {
   "display_name": "Python 3 (ipykernel)",
   "language": "python",
   "name": "python3"
  },
  "language_info": {
   "codemirror_mode": {
    "name": "ipython",
    "version": 3
   },
   "file_extension": ".py",
   "mimetype": "text/x-python",
   "name": "python",
   "nbconvert_exporter": "python",
   "pygments_lexer": "ipython3",
   "version": "3.8.8"
  }
 },
 "nbformat": 4,
 "nbformat_minor": 5
}
