{
 "cells": [
  {
   "cell_type": "code",
   "execution_count": 1,
   "id": "87ee4126",
   "metadata": {},
   "outputs": [],
   "source": [
    "import numpy as np \n",
    "import pandas as pd \n",
    "import seaborn as sns\n",
    "import matplotlib.pyplot as plt\n",
    "import sys\n",
    "sys.path.append(\"..\")\n",
    "from scripts.missing_percentage import percent_missing\n",
    "from scripts.missing_filler import *\n",
    "from scripts.outlier import *\n",
    "from scripts.type_format import *\n",
    "import os \n",
    "import warnings \n",
    "import sys\n"
   ]
  },
  {
   "cell_type": "code",
   "execution_count": 2,
   "id": "9e67d607",
   "metadata": {},
   "outputs": [],
   "source": [
    "warnings.filterwarnings('ignore')"
   ]
  },
  {
   "cell_type": "code",
   "execution_count": 3,
   "id": "5d67cd7e",
   "metadata": {},
   "outputs": [],
   "source": [
    "#set path for files\n",
    "\n",
    "parent_dir = os.path.abspath(os.path.join(os.getcwd(), os.pardir)) # setting path to parent directory\n",
    "scripts_dir = os.path.join(parent_dir,\"scripts\") # setting path to scripts directory\n",
    "data_path = os.path.join(parent_dir,\"data\",\"telecom_data.csv\") # setting path to data directory\n",
    "\n",
    "sys.path.insert(1, scripts_dir)"
   ]
  },
  {
   "cell_type": "code",
   "execution_count": 4,
   "id": "5048d7ee",
   "metadata": {},
   "outputs": [],
   "source": [
    "db=pd.read_csv(data_path)"
   ]
  },
  {
   "cell_type": "code",
   "execution_count": 5,
   "id": "aaff3254",
   "metadata": {},
   "outputs": [
    {
     "data": {
      "text/plain": [
       "55"
      ]
     },
     "execution_count": 5,
     "metadata": {},
     "output_type": "execute_result"
    }
   ],
   "source": [
    "len(db.columns)"
   ]
  },
  {
   "cell_type": "markdown",
   "id": "a3ccccf4",
   "metadata": {},
   "source": [
    "# Understanding the data "
   ]
  },
  {
   "cell_type": "code",
   "execution_count": 6,
   "id": "f817fdad",
   "metadata": {},
   "outputs": [
    {
     "data": {
      "text/html": [
       "<div>\n",
       "<style scoped>\n",
       "    .dataframe tbody tr th:only-of-type {\n",
       "        vertical-align: middle;\n",
       "    }\n",
       "\n",
       "    .dataframe tbody tr th {\n",
       "        vertical-align: top;\n",
       "    }\n",
       "\n",
       "    .dataframe thead th {\n",
       "        text-align: right;\n",
       "    }\n",
       "</style>\n",
       "<table border=\"1\" class=\"dataframe\">\n",
       "  <thead>\n",
       "    <tr style=\"text-align: right;\">\n",
       "      <th></th>\n",
       "      <th>Bearer Id</th>\n",
       "      <th>Start</th>\n",
       "      <th>Start ms</th>\n",
       "      <th>End</th>\n",
       "      <th>End ms</th>\n",
       "      <th>Dur. (ms)</th>\n",
       "      <th>IMSI</th>\n",
       "      <th>MSISDN/Number</th>\n",
       "      <th>IMEI</th>\n",
       "      <th>Last Location Name</th>\n",
       "      <th>...</th>\n",
       "      <th>Youtube DL (Bytes)</th>\n",
       "      <th>Youtube UL (Bytes)</th>\n",
       "      <th>Netflix DL (Bytes)</th>\n",
       "      <th>Netflix UL (Bytes)</th>\n",
       "      <th>Gaming DL (Bytes)</th>\n",
       "      <th>Gaming UL (Bytes)</th>\n",
       "      <th>Other DL (Bytes)</th>\n",
       "      <th>Other UL (Bytes)</th>\n",
       "      <th>Total UL (Bytes)</th>\n",
       "      <th>Total DL (Bytes)</th>\n",
       "    </tr>\n",
       "  </thead>\n",
       "  <tbody>\n",
       "    <tr>\n",
       "      <th>0</th>\n",
       "      <td>1.311450e+19</td>\n",
       "      <td>4/4/2019 12:01</td>\n",
       "      <td>770.0</td>\n",
       "      <td>4/25/2019 14:35</td>\n",
       "      <td>662.0</td>\n",
       "      <td>1823652.0</td>\n",
       "      <td>2.082010e+14</td>\n",
       "      <td>3.366496e+10</td>\n",
       "      <td>3.552120e+13</td>\n",
       "      <td>9.16457E+15</td>\n",
       "      <td>...</td>\n",
       "      <td>15854611.0</td>\n",
       "      <td>2501332.0</td>\n",
       "      <td>8198936.0</td>\n",
       "      <td>9656251.0</td>\n",
       "      <td>278082303.0</td>\n",
       "      <td>14344150.0</td>\n",
       "      <td>171744450.0</td>\n",
       "      <td>8814393.0</td>\n",
       "      <td>36749741.0</td>\n",
       "      <td>308879636.0</td>\n",
       "    </tr>\n",
       "    <tr>\n",
       "      <th>1</th>\n",
       "      <td>1.311450e+19</td>\n",
       "      <td>4/9/2019 13:04</td>\n",
       "      <td>235.0</td>\n",
       "      <td>4/25/2019 8:15</td>\n",
       "      <td>606.0</td>\n",
       "      <td>1365104.0</td>\n",
       "      <td>2.082020e+14</td>\n",
       "      <td>3.368185e+10</td>\n",
       "      <td>3.579400e+13</td>\n",
       "      <td>L77566A</td>\n",
       "      <td>...</td>\n",
       "      <td>20247395.0</td>\n",
       "      <td>19111729.0</td>\n",
       "      <td>18338413.0</td>\n",
       "      <td>17227132.0</td>\n",
       "      <td>608750074.0</td>\n",
       "      <td>1170709.0</td>\n",
       "      <td>526904238.0</td>\n",
       "      <td>15055145.0</td>\n",
       "      <td>53800391.0</td>\n",
       "      <td>653384965.0</td>\n",
       "    </tr>\n",
       "    <tr>\n",
       "      <th>2</th>\n",
       "      <td>1.311450e+19</td>\n",
       "      <td>4/9/2019 17:42</td>\n",
       "      <td>1.0</td>\n",
       "      <td>4/25/2019 11:58</td>\n",
       "      <td>652.0</td>\n",
       "      <td>1361762.0</td>\n",
       "      <td>2.082000e+14</td>\n",
       "      <td>3.376063e+10</td>\n",
       "      <td>3.528150e+13</td>\n",
       "      <td>D42335A</td>\n",
       "      <td>...</td>\n",
       "      <td>19725661.0</td>\n",
       "      <td>14699576.0</td>\n",
       "      <td>17587794.0</td>\n",
       "      <td>6163408.0</td>\n",
       "      <td>229584621.0</td>\n",
       "      <td>395630.0</td>\n",
       "      <td>410692588.0</td>\n",
       "      <td>4215763.0</td>\n",
       "      <td>27883638.0</td>\n",
       "      <td>279807335.0</td>\n",
       "    </tr>\n",
       "    <tr>\n",
       "      <th>3</th>\n",
       "      <td>1.311450e+19</td>\n",
       "      <td>4/10/2019 0:31</td>\n",
       "      <td>486.0</td>\n",
       "      <td>4/25/2019 7:36</td>\n",
       "      <td>171.0</td>\n",
       "      <td>1321509.0</td>\n",
       "      <td>2.082010e+14</td>\n",
       "      <td>3.375034e+10</td>\n",
       "      <td>3.535660e+13</td>\n",
       "      <td>T21824A</td>\n",
       "      <td>...</td>\n",
       "      <td>21388122.0</td>\n",
       "      <td>15146643.0</td>\n",
       "      <td>13994646.0</td>\n",
       "      <td>1097942.0</td>\n",
       "      <td>799538153.0</td>\n",
       "      <td>10849722.0</td>\n",
       "      <td>749039933.0</td>\n",
       "      <td>12797283.0</td>\n",
       "      <td>43324218.0</td>\n",
       "      <td>846028530.0</td>\n",
       "    </tr>\n",
       "    <tr>\n",
       "      <th>4</th>\n",
       "      <td>1.311450e+19</td>\n",
       "      <td>4/12/2019 20:10</td>\n",
       "      <td>565.0</td>\n",
       "      <td>4/25/2019 10:40</td>\n",
       "      <td>954.0</td>\n",
       "      <td>1089009.0</td>\n",
       "      <td>2.082010e+14</td>\n",
       "      <td>3.369980e+10</td>\n",
       "      <td>3.540700e+13</td>\n",
       "      <td>D88865A</td>\n",
       "      <td>...</td>\n",
       "      <td>15259380.0</td>\n",
       "      <td>18962873.0</td>\n",
       "      <td>17124581.0</td>\n",
       "      <td>415218.0</td>\n",
       "      <td>527707248.0</td>\n",
       "      <td>3529801.0</td>\n",
       "      <td>550709500.0</td>\n",
       "      <td>13910322.0</td>\n",
       "      <td>38542814.0</td>\n",
       "      <td>569138589.0</td>\n",
       "    </tr>\n",
       "  </tbody>\n",
       "</table>\n",
       "<p>5 rows × 55 columns</p>\n",
       "</div>"
      ],
      "text/plain": [
       "      Bearer Id            Start  Start ms              End  End ms  \\\n",
       "0  1.311450e+19   4/4/2019 12:01     770.0  4/25/2019 14:35   662.0   \n",
       "1  1.311450e+19   4/9/2019 13:04     235.0   4/25/2019 8:15   606.0   \n",
       "2  1.311450e+19   4/9/2019 17:42       1.0  4/25/2019 11:58   652.0   \n",
       "3  1.311450e+19   4/10/2019 0:31     486.0   4/25/2019 7:36   171.0   \n",
       "4  1.311450e+19  4/12/2019 20:10     565.0  4/25/2019 10:40   954.0   \n",
       "\n",
       "   Dur. (ms)          IMSI  MSISDN/Number          IMEI Last Location Name  \\\n",
       "0  1823652.0  2.082010e+14   3.366496e+10  3.552120e+13        9.16457E+15   \n",
       "1  1365104.0  2.082020e+14   3.368185e+10  3.579400e+13            L77566A   \n",
       "2  1361762.0  2.082000e+14   3.376063e+10  3.528150e+13            D42335A   \n",
       "3  1321509.0  2.082010e+14   3.375034e+10  3.535660e+13            T21824A   \n",
       "4  1089009.0  2.082010e+14   3.369980e+10  3.540700e+13            D88865A   \n",
       "\n",
       "   ...  Youtube DL (Bytes)  Youtube UL (Bytes)  Netflix DL (Bytes)  \\\n",
       "0  ...          15854611.0           2501332.0           8198936.0   \n",
       "1  ...          20247395.0          19111729.0          18338413.0   \n",
       "2  ...          19725661.0          14699576.0          17587794.0   \n",
       "3  ...          21388122.0          15146643.0          13994646.0   \n",
       "4  ...          15259380.0          18962873.0          17124581.0   \n",
       "\n",
       "   Netflix UL (Bytes)  Gaming DL (Bytes)  Gaming UL (Bytes)  Other DL (Bytes)  \\\n",
       "0           9656251.0        278082303.0         14344150.0       171744450.0   \n",
       "1          17227132.0        608750074.0          1170709.0       526904238.0   \n",
       "2           6163408.0        229584621.0           395630.0       410692588.0   \n",
       "3           1097942.0        799538153.0         10849722.0       749039933.0   \n",
       "4            415218.0        527707248.0          3529801.0       550709500.0   \n",
       "\n",
       "   Other UL (Bytes)  Total UL (Bytes)  Total DL (Bytes)  \n",
       "0         8814393.0        36749741.0       308879636.0  \n",
       "1        15055145.0        53800391.0       653384965.0  \n",
       "2         4215763.0        27883638.0       279807335.0  \n",
       "3        12797283.0        43324218.0       846028530.0  \n",
       "4        13910322.0        38542814.0       569138589.0  \n",
       "\n",
       "[5 rows x 55 columns]"
      ]
     },
     "execution_count": 6,
     "metadata": {},
     "output_type": "execute_result"
    }
   ],
   "source": [
    "db.head()"
   ]
  },
  {
   "cell_type": "code",
   "execution_count": 7,
   "id": "e3699098",
   "metadata": {},
   "outputs": [
    {
     "data": {
      "text/plain": [
       "(150001, 55)"
      ]
     },
     "execution_count": 7,
     "metadata": {},
     "output_type": "execute_result"
    }
   ],
   "source": [
    "db.shape"
   ]
  },
  {
   "cell_type": "code",
   "execution_count": 8,
   "id": "5aeeed7d",
   "metadata": {},
   "outputs": [],
   "source": [
    "missingCount=db.isnull().sum()"
   ]
  },
  {
   "cell_type": "code",
   "execution_count": 9,
   "id": "56277dbf",
   "metadata": {},
   "outputs": [
    {
     "data": {
      "text/plain": [
       "1031392"
      ]
     },
     "execution_count": 9,
     "metadata": {},
     "output_type": "execute_result"
    }
   ],
   "source": [
    "missingCount.sum()"
   ]
  },
  {
   "cell_type": "markdown",
   "id": "0e19c800",
   "metadata": {},
   "source": [
    "# Data Cleaning step by step"
   ]
  },
  {
   "cell_type": "markdown",
   "id": "6ef6000d",
   "metadata": {},
   "source": [
    "handling the missing values "
   ]
  },
  {
   "cell_type": "code",
   "execution_count": 10,
   "id": "7f6a3ec8",
   "metadata": {},
   "outputs": [
    {
     "name": "stdout",
     "output_type": "stream",
     "text": [
      "The telecom dataset contains 12.5 % missing values.\n"
     ]
    }
   ],
   "source": [
    "percent_missing(db)"
   ]
  },
  {
   "cell_type": "code",
   "execution_count": 11,
   "id": "099282c7",
   "metadata": {
    "scrolled": true
   },
   "outputs": [
    {
     "data": {
      "text/plain": [
       "Bearer Id                                      991\n",
       "Start                                            1\n",
       "Start ms                                         1\n",
       "End                                              1\n",
       "End ms                                           1\n",
       "Dur. (ms)                                        1\n",
       "IMSI                                           570\n",
       "MSISDN/Number                                 1066\n",
       "IMEI                                           572\n",
       "Last Location Name                            1153\n",
       "Avg RTT DL (ms)                              27829\n",
       "Avg RTT UL (ms)                              27812\n",
       "Avg Bearer TP DL (kbps)                          1\n",
       "Avg Bearer TP UL (kbps)                          1\n",
       "TCP DL Retrans. Vol (Bytes)                  88146\n",
       "TCP UL Retrans. Vol (Bytes)                  96649\n",
       "DL TP < 50 Kbps (%)                            754\n",
       "50 Kbps < DL TP < 250 Kbps (%)                 754\n",
       "250 Kbps < DL TP < 1 Mbps (%)                  754\n",
       "DL TP > 1 Mbps (%)                             754\n",
       "UL TP < 10 Kbps (%)                            792\n",
       "10 Kbps < UL TP < 50 Kbps (%)                  792\n",
       "50 Kbps < UL TP < 300 Kbps (%)                 792\n",
       "UL TP > 300 Kbps (%)                           792\n",
       "HTTP DL (Bytes)                              81474\n",
       "HTTP UL (Bytes)                              81810\n",
       "Activity Duration DL (ms)                        1\n",
       "Activity Duration UL (ms)                        1\n",
       "Dur. (ms).1                                      1\n",
       "Handset Manufacturer                           572\n",
       "Handset Type                                   572\n",
       "Nb of sec with 125000B < Vol DL              97538\n",
       "Nb of sec with 1250B < Vol UL < 6250B        92894\n",
       "Nb of sec with 31250B < Vol DL < 125000B     93586\n",
       "Nb of sec with 37500B < Vol UL              130254\n",
       "Nb of sec with 6250B < Vol DL < 31250B       88317\n",
       "Nb of sec with 6250B < Vol UL < 37500B      111843\n",
       "Nb of sec with Vol DL < 6250B                  755\n",
       "Nb of sec with Vol UL < 1250B                  793\n",
       "Social Media DL (Bytes)                          0\n",
       "Social Media UL (Bytes)                          0\n",
       "Google DL (Bytes)                                0\n",
       "Google UL (Bytes)                                0\n",
       "Email DL (Bytes)                                 0\n",
       "Email UL (Bytes)                                 0\n",
       "Youtube DL (Bytes)                               0\n",
       "Youtube UL (Bytes)                               0\n",
       "Netflix DL (Bytes)                               0\n",
       "Netflix UL (Bytes)                               0\n",
       "Gaming DL (Bytes)                                0\n",
       "Gaming UL (Bytes)                                0\n",
       "Other DL (Bytes)                                 0\n",
       "Other UL (Bytes)                                 0\n",
       "Total UL (Bytes)                                 1\n",
       "Total DL (Bytes)                                 1\n",
       "dtype: int64"
      ]
     },
     "execution_count": 11,
     "metadata": {},
     "output_type": "execute_result"
    }
   ],
   "source": [
    "#how much null values each columns has\n",
    "db.isna().sum()"
   ]
  },
  {
   "cell_type": "markdown",
   "id": "39a94521",
   "metadata": {},
   "source": [
    "the missing values of some relevant columns with a moderate missing value data cleaned here."
   ]
  },
  {
   "cell_type": "code",
   "execution_count": 12,
   "id": "737409e1",
   "metadata": {},
   "outputs": [
    {
     "data": {
      "text/plain": [
       "(148506, 55)"
      ]
     },
     "execution_count": 12,
     "metadata": {},
     "output_type": "execute_result"
    }
   ],
   "source": [
    "# Droping rows with missing values\n",
    "\n",
    "db_clean = db.dropna(subset=['Bearer Id'])\n",
    "db_clean = db_clean.dropna(subset=['Start'])\n",
    "db_clean = db_clean.dropna(subset=['End'])\n",
    "db_clean = db_clean.dropna(subset=['IMSI'])\n",
    "db_clean = db_clean.dropna(subset=['MSISDN/Number'])\n",
    "\n",
    "db_clean.shape"
   ]
  },
  {
   "cell_type": "code",
   "execution_count": 13,
   "id": "eed5ddd5",
   "metadata": {},
   "outputs": [
    {
     "data": {
      "text/plain": [
       "Bearer Id                                        0\n",
       "Start                                            0\n",
       "Start ms                                         0\n",
       "End                                              0\n",
       "End ms                                           0\n",
       "Dur. (ms)                                        0\n",
       "IMSI                                             0\n",
       "MSISDN/Number                                    0\n",
       "IMEI                                             0\n",
       "Last Location Name                             160\n",
       "Avg RTT DL (ms)                              27636\n",
       "Avg RTT UL (ms)                              27616\n",
       "Avg Bearer TP DL (kbps)                          0\n",
       "Avg Bearer TP UL (kbps)                          0\n",
       "TCP DL Retrans. Vol (Bytes)                  87764\n",
       "TCP UL Retrans. Vol (Bytes)                  96128\n",
       "DL TP < 50 Kbps (%)                            712\n",
       "50 Kbps < DL TP < 250 Kbps (%)                 712\n",
       "250 Kbps < DL TP < 1 Mbps (%)                  712\n",
       "DL TP > 1 Mbps (%)                             712\n",
       "UL TP < 10 Kbps (%)                            767\n",
       "10 Kbps < UL TP < 50 Kbps (%)                  767\n",
       "50 Kbps < UL TP < 300 Kbps (%)                 767\n",
       "UL TP > 300 Kbps (%)                           767\n",
       "HTTP DL (Bytes)                              81129\n",
       "HTTP UL (Bytes)                              81475\n",
       "Activity Duration DL (ms)                        0\n",
       "Activity Duration UL (ms)                        0\n",
       "Dur. (ms).1                                      0\n",
       "Handset Manufacturer                             0\n",
       "Handset Type                                     0\n",
       "Nb of sec with 125000B < Vol DL              96775\n",
       "Nb of sec with 1250B < Vol UL < 6250B        92269\n",
       "Nb of sec with 31250B < Vol DL < 125000B     92978\n",
       "Nb of sec with 37500B < Vol UL              128950\n",
       "Nb of sec with 6250B < Vol DL < 31250B       87838\n",
       "Nb of sec with 6250B < Vol UL < 37500B      110803\n",
       "Nb of sec with Vol DL < 6250B                  713\n",
       "Nb of sec with Vol UL < 1250B                  768\n",
       "Social Media DL (Bytes)                          0\n",
       "Social Media UL (Bytes)                          0\n",
       "Google DL (Bytes)                                0\n",
       "Google UL (Bytes)                                0\n",
       "Email DL (Bytes)                                 0\n",
       "Email UL (Bytes)                                 0\n",
       "Youtube DL (Bytes)                               0\n",
       "Youtube UL (Bytes)                               0\n",
       "Netflix DL (Bytes)                               0\n",
       "Netflix UL (Bytes)                               0\n",
       "Gaming DL (Bytes)                                0\n",
       "Gaming UL (Bytes)                                0\n",
       "Other DL (Bytes)                                 0\n",
       "Other UL (Bytes)                                 0\n",
       "Total UL (Bytes)                                 0\n",
       "Total DL (Bytes)                                 0\n",
       "dtype: int64"
      ]
     },
     "execution_count": 13,
     "metadata": {},
     "output_type": "execute_result"
    }
   ],
   "source": [
    "db_clean.isna().sum()"
   ]
  },
  {
   "cell_type": "markdown",
   "id": "471e7f42",
   "metadata": {},
   "source": [
    "Remove columns when the number of missing vlaues is more than 30%  "
   ]
  },
  {
   "cell_type": "code",
   "execution_count": 14,
   "id": "f9b5e4a0",
   "metadata": {},
   "outputs": [
    {
     "data": {
      "text/plain": [
       "(148506, 45)"
      ]
     },
     "execution_count": 14,
     "metadata": {},
     "output_type": "execute_result"
    }
   ],
   "source": [
    "db_clean_1 = db_clean.drop(['TCP DL Retrans. Vol (Bytes)', 'TCP UL Retrans. Vol (Bytes)', 'HTTP DL (Bytes)','HTTP UL (Bytes)','Nb of sec with 125000B < Vol DL', 'Nb of sec with 1250B < Vol UL < 6250B', 'Nb of sec with 31250B < Vol DL < 125000B', 'Nb of sec with 37500B < Vol UL', 'Nb of sec with 6250B < Vol DL < 31250B', 'Nb of sec with 6250B < Vol UL < 37500B'], axis=1)\n",
    "db_clean_1.shape"
   ]
  },
  {
   "cell_type": "code",
   "execution_count": 15,
   "id": "dee23357",
   "metadata": {},
   "outputs": [
    {
     "name": "stdout",
     "output_type": "stream",
     "text": [
      "<class 'pandas.core.frame.DataFrame'>\n",
      "Int64Index: 148506 entries, 0 to 149999\n",
      "Data columns (total 45 columns):\n",
      " #   Column                          Non-Null Count   Dtype         \n",
      "---  ------                          --------------   -----         \n",
      " 0   Bearer Id                       148506 non-null  float64       \n",
      " 1   Start                           148506 non-null  datetime64[ns]\n",
      " 2   Start ms                        148506 non-null  float64       \n",
      " 3   End                             148506 non-null  datetime64[ns]\n",
      " 4   End ms                          148506 non-null  float64       \n",
      " 5   Dur. (ms)                       148506 non-null  float64       \n",
      " 6   IMSI                            148506 non-null  float64       \n",
      " 7   MSISDN/Number                   148506 non-null  float64       \n",
      " 8   IMEI                            148506 non-null  float64       \n",
      " 9   Last Location Name              148346 non-null  object        \n",
      " 10  Avg RTT DL (ms)                 120870 non-null  float64       \n",
      " 11  Avg RTT UL (ms)                 120890 non-null  float64       \n",
      " 12  Avg Bearer TP DL (kbps)         148506 non-null  float64       \n",
      " 13  Avg Bearer TP UL (kbps)         148506 non-null  float64       \n",
      " 14  DL TP < 50 Kbps (%)             147794 non-null  float64       \n",
      " 15  50 Kbps < DL TP < 250 Kbps (%)  147794 non-null  float64       \n",
      " 16  250 Kbps < DL TP < 1 Mbps (%)   147794 non-null  float64       \n",
      " 17  DL TP > 1 Mbps (%)              147794 non-null  float64       \n",
      " 18  UL TP < 10 Kbps (%)             147739 non-null  float64       \n",
      " 19  10 Kbps < UL TP < 50 Kbps (%)   147739 non-null  float64       \n",
      " 20  50 Kbps < UL TP < 300 Kbps (%)  147739 non-null  float64       \n",
      " 21  UL TP > 300 Kbps (%)            147739 non-null  float64       \n",
      " 22  Activity Duration DL (ms)       148506 non-null  float64       \n",
      " 23  Activity Duration UL (ms)       148506 non-null  float64       \n",
      " 24  Dur. (ms).1                     148506 non-null  float64       \n",
      " 25  Handset Manufacturer            148506 non-null  object        \n",
      " 26  Handset Type                    148506 non-null  object        \n",
      " 27  Nb of sec with Vol DL < 6250B   147793 non-null  float64       \n",
      " 28  Nb of sec with Vol UL < 1250B   147738 non-null  float64       \n",
      " 29  Social Media DL (Bytes)         148506 non-null  float64       \n",
      " 30  Social Media UL (Bytes)         148506 non-null  float64       \n",
      " 31  Google DL (Bytes)               148506 non-null  float64       \n",
      " 32  Google UL (Bytes)               148506 non-null  float64       \n",
      " 33  Email DL (Bytes)                148506 non-null  float64       \n",
      " 34  Email UL (Bytes)                148506 non-null  float64       \n",
      " 35  Youtube DL (Bytes)              148506 non-null  float64       \n",
      " 36  Youtube UL (Bytes)              148506 non-null  float64       \n",
      " 37  Netflix DL (Bytes)              148506 non-null  float64       \n",
      " 38  Netflix UL (Bytes)              148506 non-null  float64       \n",
      " 39  Gaming DL (Bytes)               148506 non-null  float64       \n",
      " 40  Gaming UL (Bytes)               148506 non-null  float64       \n",
      " 41  Other DL (Bytes)                148506 non-null  float64       \n",
      " 42  Other UL (Bytes)                148506 non-null  float64       \n",
      " 43  Total UL (Bytes)                148506 non-null  float64       \n",
      " 44  Total DL (Bytes)                148506 non-null  float64       \n",
      "dtypes: datetime64[ns](2), float64(40), object(3)\n",
      "memory usage: 52.1+ MB\n"
     ]
    }
   ],
   "source": [
    "#change milliseconds into seconds and bytes into megabytes\n",
    "\n",
    "\n",
    "# change start and End to datetime \n",
    "\n",
    "\n",
    "db_clean_1['Start']=pd.to_datetime(db_clean_1['Start'])\n",
    "db_clean_1['End']=pd.to_datetime(db_clean_1['End'])\n",
    "\n",
    "db_clean_1.info()"
   ]
  },
  {
   "cell_type": "code",
   "execution_count": 16,
   "id": "d52f3ff0",
   "metadata": {},
   "outputs": [],
   "source": [
    "# Changing the id features to categorical variables.\n",
    "\n",
    "db_clean_2 = db_clean_1.astype({\"Bearer Id\": str, \"MSISDN/Number\": str, \"Last Location Name\": str})\n"
   ]
  },
  {
   "cell_type": "code",
   "execution_count": 18,
   "id": "fae4b300",
   "metadata": {
    "scrolled": true
   },
   "outputs": [
    {
     "ename": "AttributeError",
     "evalue": "'DataFrame' object has no attribute 'fill_missing_by_mode'",
     "output_type": "error",
     "traceback": [
      "\u001b[1;31m---------------------------------------------------------------------------\u001b[0m",
      "\u001b[1;31mAttributeError\u001b[0m                            Traceback (most recent call last)",
      "\u001b[1;32m~\\AppData\\Local\\Temp/ipykernel_13880/2326933841.py\u001b[0m in \u001b[0;36m<module>\u001b[1;34m\u001b[0m\n\u001b[0;32m      1\u001b[0m \u001b[1;31m#filling missing vlaues of objects by mode\u001b[0m\u001b[1;33m\u001b[0m\u001b[1;33m\u001b[0m\u001b[1;33m\u001b[0m\u001b[0m\n\u001b[1;32m----> 2\u001b[1;33m \u001b[0mdb_clean_3\u001b[0m\u001b[1;33m=\u001b[0m\u001b[0mdb_clean_2\u001b[0m\u001b[1;33m.\u001b[0m\u001b[0mfill_missing_by_mode\u001b[0m\u001b[1;33m(\u001b[0m\u001b[0mdb_clean_2\u001b[0m\u001b[1;33m)\u001b[0m\u001b[1;33m\u001b[0m\u001b[1;33m\u001b[0m\u001b[0m\n\u001b[0m",
      "\u001b[1;32m~\\anaconda3\\envs\\thesis\\lib\\site-packages\\pandas\\core\\generic.py\u001b[0m in \u001b[0;36m__getattr__\u001b[1;34m(self, name)\u001b[0m\n\u001b[0;32m   5476\u001b[0m         ):\n\u001b[0;32m   5477\u001b[0m             \u001b[1;32mreturn\u001b[0m \u001b[0mself\u001b[0m\u001b[1;33m[\u001b[0m\u001b[0mname\u001b[0m\u001b[1;33m]\u001b[0m\u001b[1;33m\u001b[0m\u001b[1;33m\u001b[0m\u001b[0m\n\u001b[1;32m-> 5478\u001b[1;33m         \u001b[1;32mreturn\u001b[0m \u001b[0mobject\u001b[0m\u001b[1;33m.\u001b[0m\u001b[0m__getattribute__\u001b[0m\u001b[1;33m(\u001b[0m\u001b[0mself\u001b[0m\u001b[1;33m,\u001b[0m \u001b[0mname\u001b[0m\u001b[1;33m)\u001b[0m\u001b[1;33m\u001b[0m\u001b[1;33m\u001b[0m\u001b[0m\n\u001b[0m\u001b[0;32m   5479\u001b[0m \u001b[1;33m\u001b[0m\u001b[0m\n\u001b[0;32m   5480\u001b[0m     \u001b[1;32mdef\u001b[0m \u001b[0m__setattr__\u001b[0m\u001b[1;33m(\u001b[0m\u001b[0mself\u001b[0m\u001b[1;33m,\u001b[0m \u001b[0mname\u001b[0m\u001b[1;33m:\u001b[0m \u001b[0mstr\u001b[0m\u001b[1;33m,\u001b[0m \u001b[0mvalue\u001b[0m\u001b[1;33m)\u001b[0m \u001b[1;33m->\u001b[0m \u001b[1;32mNone\u001b[0m\u001b[1;33m:\u001b[0m\u001b[1;33m\u001b[0m\u001b[1;33m\u001b[0m\u001b[0m\n",
      "\u001b[1;31mAttributeError\u001b[0m: 'DataFrame' object has no attribute 'fill_missing_by_mode'"
     ]
    }
   ],
   "source": [
    "#filling missing vlaues of objects by mode\n",
    "db_clean_3=db_clean_2.fill_missing_by_mode(db_clean_2)\n"
   ]
  },
  {
   "cell_type": "code",
   "execution_count": 41,
   "id": "8010b0b6",
   "metadata": {},
   "outputs": [
    {
     "data": {
      "text/plain": [
       "True"
      ]
     },
     "execution_count": 41,
     "metadata": {},
     "output_type": "execute_result"
    }
   ],
   "source": [
    "pd.isna(db_clean_3) #Return True value when None is found"
   ]
  },
  {
   "cell_type": "code",
   "execution_count": null,
   "id": "163ebc1e",
   "metadata": {},
   "outputs": [],
   "source": [
    "db_clean_3.skew(axis = 0, skipna = True)"
   ]
  },
  {
   "cell_type": "code",
   "execution_count": 131,
   "id": "8b59a3f3",
   "metadata": {
    "scrolled": true
   },
   "outputs": [
    {
     "ename": "TypeError",
     "evalue": "Horizontal orientation requires numeric `x` variable.",
     "output_type": "error",
     "traceback": [
      "\u001b[1;31m---------------------------------------------------------------------------\u001b[0m",
      "\u001b[1;31mTypeError\u001b[0m                                 Traceback (most recent call last)",
      "\u001b[1;32m~\\AppData\\Local\\Temp/ipykernel_14616/3506836119.py\u001b[0m in \u001b[0;36m<module>\u001b[1;34m\u001b[0m\n\u001b[1;32m----> 1\u001b[1;33m \u001b[0msns\u001b[0m\u001b[1;33m.\u001b[0m\u001b[0mboxplot\u001b[0m\u001b[1;33m(\u001b[0m\u001b[0mdb_clean_2\u001b[0m\u001b[1;33m.\u001b[0m\u001b[0mStart\u001b[0m\u001b[1;33m)\u001b[0m\u001b[1;33m\u001b[0m\u001b[1;33m\u001b[0m\u001b[0m\n\u001b[0m",
      "\u001b[1;32m~\\anaconda3\\envs\\thesis\\lib\\site-packages\\seaborn\\_decorators.py\u001b[0m in \u001b[0;36minner_f\u001b[1;34m(*args, **kwargs)\u001b[0m\n\u001b[0;32m     44\u001b[0m             )\n\u001b[0;32m     45\u001b[0m         \u001b[0mkwargs\u001b[0m\u001b[1;33m.\u001b[0m\u001b[0mupdate\u001b[0m\u001b[1;33m(\u001b[0m\u001b[1;33m{\u001b[0m\u001b[0mk\u001b[0m\u001b[1;33m:\u001b[0m \u001b[0marg\u001b[0m \u001b[1;32mfor\u001b[0m \u001b[0mk\u001b[0m\u001b[1;33m,\u001b[0m \u001b[0marg\u001b[0m \u001b[1;32min\u001b[0m \u001b[0mzip\u001b[0m\u001b[1;33m(\u001b[0m\u001b[0msig\u001b[0m\u001b[1;33m.\u001b[0m\u001b[0mparameters\u001b[0m\u001b[1;33m,\u001b[0m \u001b[0margs\u001b[0m\u001b[1;33m)\u001b[0m\u001b[1;33m}\u001b[0m\u001b[1;33m)\u001b[0m\u001b[1;33m\u001b[0m\u001b[1;33m\u001b[0m\u001b[0m\n\u001b[1;32m---> 46\u001b[1;33m         \u001b[1;32mreturn\u001b[0m \u001b[0mf\u001b[0m\u001b[1;33m(\u001b[0m\u001b[1;33m**\u001b[0m\u001b[0mkwargs\u001b[0m\u001b[1;33m)\u001b[0m\u001b[1;33m\u001b[0m\u001b[1;33m\u001b[0m\u001b[0m\n\u001b[0m\u001b[0;32m     47\u001b[0m     \u001b[1;32mreturn\u001b[0m \u001b[0minner_f\u001b[0m\u001b[1;33m\u001b[0m\u001b[1;33m\u001b[0m\u001b[0m\n\u001b[0;32m     48\u001b[0m \u001b[1;33m\u001b[0m\u001b[0m\n",
      "\u001b[1;32m~\\anaconda3\\envs\\thesis\\lib\\site-packages\\seaborn\\categorical.py\u001b[0m in \u001b[0;36mboxplot\u001b[1;34m(x, y, hue, data, order, hue_order, orient, color, palette, saturation, width, dodge, fliersize, linewidth, whis, ax, **kwargs)\u001b[0m\n\u001b[0;32m   2238\u001b[0m ):\n\u001b[0;32m   2239\u001b[0m \u001b[1;33m\u001b[0m\u001b[0m\n\u001b[1;32m-> 2240\u001b[1;33m     plotter = _BoxPlotter(x, y, hue, data, order, hue_order,\n\u001b[0m\u001b[0;32m   2241\u001b[0m                           \u001b[0morient\u001b[0m\u001b[1;33m,\u001b[0m \u001b[0mcolor\u001b[0m\u001b[1;33m,\u001b[0m \u001b[0mpalette\u001b[0m\u001b[1;33m,\u001b[0m \u001b[0msaturation\u001b[0m\u001b[1;33m,\u001b[0m\u001b[1;33m\u001b[0m\u001b[1;33m\u001b[0m\u001b[0m\n\u001b[0;32m   2242\u001b[0m                           width, dodge, fliersize, linewidth)\n",
      "\u001b[1;32m~\\anaconda3\\envs\\thesis\\lib\\site-packages\\seaborn\\categorical.py\u001b[0m in \u001b[0;36m__init__\u001b[1;34m(self, x, y, hue, data, order, hue_order, orient, color, palette, saturation, width, dodge, fliersize, linewidth)\u001b[0m\n\u001b[0;32m    404\u001b[0m                  width, dodge, fliersize, linewidth):\n\u001b[0;32m    405\u001b[0m \u001b[1;33m\u001b[0m\u001b[0m\n\u001b[1;32m--> 406\u001b[1;33m         \u001b[0mself\u001b[0m\u001b[1;33m.\u001b[0m\u001b[0mestablish_variables\u001b[0m\u001b[1;33m(\u001b[0m\u001b[0mx\u001b[0m\u001b[1;33m,\u001b[0m \u001b[0my\u001b[0m\u001b[1;33m,\u001b[0m \u001b[0mhue\u001b[0m\u001b[1;33m,\u001b[0m \u001b[0mdata\u001b[0m\u001b[1;33m,\u001b[0m \u001b[0morient\u001b[0m\u001b[1;33m,\u001b[0m \u001b[0morder\u001b[0m\u001b[1;33m,\u001b[0m \u001b[0mhue_order\u001b[0m\u001b[1;33m)\u001b[0m\u001b[1;33m\u001b[0m\u001b[1;33m\u001b[0m\u001b[0m\n\u001b[0m\u001b[0;32m    407\u001b[0m         \u001b[0mself\u001b[0m\u001b[1;33m.\u001b[0m\u001b[0mestablish_colors\u001b[0m\u001b[1;33m(\u001b[0m\u001b[0mcolor\u001b[0m\u001b[1;33m,\u001b[0m \u001b[0mpalette\u001b[0m\u001b[1;33m,\u001b[0m \u001b[0msaturation\u001b[0m\u001b[1;33m)\u001b[0m\u001b[1;33m\u001b[0m\u001b[1;33m\u001b[0m\u001b[0m\n\u001b[0;32m    408\u001b[0m \u001b[1;33m\u001b[0m\u001b[0m\n",
      "\u001b[1;32m~\\anaconda3\\envs\\thesis\\lib\\site-packages\\seaborn\\categorical.py\u001b[0m in \u001b[0;36mestablish_variables\u001b[1;34m(self, x, y, hue, data, orient, order, hue_order, units)\u001b[0m\n\u001b[0;32m    154\u001b[0m \u001b[1;33m\u001b[0m\u001b[0m\n\u001b[0;32m    155\u001b[0m             \u001b[1;31m# Figure out the plotting orientation\u001b[0m\u001b[1;33m\u001b[0m\u001b[1;33m\u001b[0m\u001b[1;33m\u001b[0m\u001b[0m\n\u001b[1;32m--> 156\u001b[1;33m             orient = infer_orient(\n\u001b[0m\u001b[0;32m    157\u001b[0m                 \u001b[0mx\u001b[0m\u001b[1;33m,\u001b[0m \u001b[0my\u001b[0m\u001b[1;33m,\u001b[0m \u001b[0morient\u001b[0m\u001b[1;33m,\u001b[0m \u001b[0mrequire_numeric\u001b[0m\u001b[1;33m=\u001b[0m\u001b[0mself\u001b[0m\u001b[1;33m.\u001b[0m\u001b[0mrequire_numeric\u001b[0m\u001b[1;33m\u001b[0m\u001b[1;33m\u001b[0m\u001b[0m\n\u001b[0;32m    158\u001b[0m             )\n",
      "\u001b[1;32m~\\anaconda3\\envs\\thesis\\lib\\site-packages\\seaborn\\_core.py\u001b[0m in \u001b[0;36minfer_orient\u001b[1;34m(x, y, orient, require_numeric)\u001b[0m\n\u001b[0;32m   1319\u001b[0m             \u001b[0mwarnings\u001b[0m\u001b[1;33m.\u001b[0m\u001b[0mwarn\u001b[0m\u001b[1;33m(\u001b[0m\u001b[0msingle_var_warning\u001b[0m\u001b[1;33m.\u001b[0m\u001b[0mformat\u001b[0m\u001b[1;33m(\u001b[0m\u001b[1;34m\"Vertical\"\u001b[0m\u001b[1;33m,\u001b[0m \u001b[1;34m\"x\"\u001b[0m\u001b[1;33m)\u001b[0m\u001b[1;33m)\u001b[0m\u001b[1;33m\u001b[0m\u001b[1;33m\u001b[0m\u001b[0m\n\u001b[0;32m   1320\u001b[0m         \u001b[1;32mif\u001b[0m \u001b[0mrequire_numeric\u001b[0m \u001b[1;32mand\u001b[0m \u001b[0mx_type\u001b[0m \u001b[1;33m!=\u001b[0m \u001b[1;34m\"numeric\"\u001b[0m\u001b[1;33m:\u001b[0m\u001b[1;33m\u001b[0m\u001b[1;33m\u001b[0m\u001b[0m\n\u001b[1;32m-> 1321\u001b[1;33m             \u001b[1;32mraise\u001b[0m \u001b[0mTypeError\u001b[0m\u001b[1;33m(\u001b[0m\u001b[0mnonnumeric_dv_error\u001b[0m\u001b[1;33m.\u001b[0m\u001b[0mformat\u001b[0m\u001b[1;33m(\u001b[0m\u001b[1;34m\"Horizontal\"\u001b[0m\u001b[1;33m,\u001b[0m \u001b[1;34m\"x\"\u001b[0m\u001b[1;33m)\u001b[0m\u001b[1;33m)\u001b[0m\u001b[1;33m\u001b[0m\u001b[1;33m\u001b[0m\u001b[0m\n\u001b[0m\u001b[0;32m   1322\u001b[0m         \u001b[1;32mreturn\u001b[0m \u001b[1;34m\"h\"\u001b[0m\u001b[1;33m\u001b[0m\u001b[1;33m\u001b[0m\u001b[0m\n\u001b[0;32m   1323\u001b[0m \u001b[1;33m\u001b[0m\u001b[0m\n",
      "\u001b[1;31mTypeError\u001b[0m: Horizontal orientation requires numeric `x` variable."
     ]
    }
   ],
   "source": [
    "ax=sns.lineplot(x='stack' y='column')\n",
    "sns.boxplot(db_clean_2.Start)"
   ]
  },
  {
   "cell_type": "code",
   "execution_count": null,
   "id": "786a0034",
   "metadata": {},
   "outputs": [],
   "source": []
  },
  {
   "cell_type": "code",
   "execution_count": null,
   "id": "4c0efb05",
   "metadata": {},
   "outputs": [],
   "source": []
  }
 ],
 "metadata": {
  "kernelspec": {
   "display_name": "Python 3 (ipykernel)",
   "language": "python",
   "name": "python3"
  },
  "language_info": {
   "codemirror_mode": {
    "name": "ipython",
    "version": 3
   },
   "file_extension": ".py",
   "mimetype": "text/x-python",
   "name": "python",
   "nbconvert_exporter": "python",
   "pygments_lexer": "ipython3",
   "version": "3.8.8"
  }
 },
 "nbformat": 4,
 "nbformat_minor": 5
}
