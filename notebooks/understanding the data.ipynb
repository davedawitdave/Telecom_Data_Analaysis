{
 "cells": [
  {
   "cell_type": "code",
   "execution_count": null,
   "id": "87ee4126",
   "metadata": {},
   "outputs": [],
   "source": [
    "import numpy as np \n",
    "import pandas as pd \n",
    "import os \n",
    "import warnings \n",
    "import sys\n"
   ]
  },
  {
   "cell_type": "code",
   "execution_count": null,
   "id": "9e67d607",
   "metadata": {},
   "outputs": [],
   "source": [
    "warnings.filterwarnings('ignore')"
   ]
  },
  {
   "cell_type": "code",
   "execution_count": null,
   "id": "5d67cd7e",
   "metadata": {},
   "outputs": [],
   "source": [
    "#set path for files\n",
    "\n",
    "parent_dir = os.path.abspath(os.path.join(os.getcwd(), os.pardir)) # setting path to parent directory\n",
    "scripts_dir = os.path.join(parent_dir,\"scripts\") # setting path to scripts directory\n",
    "data_path = os.path.join(parent_dir,\"data\",\"telecom_data.csv\") # setting path to data directory\n",
    "\n",
    "sys.path.insert(1, scripts_dir)"
   ]
  },
  {
   "cell_type": "code",
   "execution_count": null,
   "id": "795035cb",
   "metadata": {},
   "outputs": [],
   "source": []
  },
  {
   "cell_type": "code",
   "execution_count": null,
   "id": "5048d7ee",
   "metadata": {},
   "outputs": [],
   "source": [
    "db=pd.read_csv(data_path)"
   ]
  },
  {
   "cell_type": "code",
   "execution_count": null,
   "id": "aaff3254",
   "metadata": {},
   "outputs": [],
   "source": [
    "len(db.columns)"
   ]
  },
  {
   "cell_type": "markdown",
   "id": "a3ccccf4",
   "metadata": {},
   "source": [
    "# Understanding the data "
   ]
  },
  {
   "cell_type": "code",
   "execution_count": null,
   "id": "f817fdad",
   "metadata": {},
   "outputs": [],
   "source": [
    "db.head()"
   ]
  },
  {
   "cell_type": "code",
   "execution_count": null,
   "id": "e3699098",
   "metadata": {},
   "outputs": [],
   "source": [
    "db.shape"
   ]
  },
  {
   "cell_type": "code",
   "execution_count": null,
   "id": "5aeeed7d",
   "metadata": {},
   "outputs": [],
   "source": [
    "missingCount=db.isnull().sum()"
   ]
  },
  {
   "cell_type": "code",
   "execution_count": null,
   "id": "56277dbf",
   "metadata": {},
   "outputs": [],
   "source": [
    "missingCount.sum()"
   ]
  },
  {
   "cell_type": "markdown",
   "id": "0e19c800",
   "metadata": {},
   "source": [
    "# Data Cleaning step by step"
   ]
  },
  {
   "cell_type": "markdown",
   "id": "6ef6000d",
   "metadata": {},
   "source": [
    "handling the missing values "
   ]
  },
  {
   "cell_type": "code",
   "execution_count": null,
   "id": "7f6a3ec8",
   "metadata": {},
   "outputs": [],
   "source": [
    "# identifying the percentage of missing values with in th data set \n",
    "\n",
    "def percent_of_missing(db):\n",
    "\n",
    "    # multiply row by column to Calculate the total number of cells in dataframe\n",
    "    totalCells = np.product(db.shape)\n",
    "\n",
    "    # Count the number of missing values per column\n",
    "    missingCount = db.isnull().sum()\n",
    "\n",
    "    # Calculate total number of missing values\n",
    "    totalMissing = missingCount.sum()\n",
    "\n",
    "    # Calculate percentage of missing values to the total cells\n",
    "    print(\"The Telecom_data dataset contains\", round(((totalMissing/totalCells) * 100), 2), \"%\", \"missing values.\")\n",
    "\n",
    "percent_of_missing(db)"
   ]
  },
  {
   "cell_type": "code",
   "execution_count": null,
   "id": "099282c7",
   "metadata": {
    "scrolled": true
   },
   "outputs": [],
   "source": [
    "#how much null values each columns has\n",
    "db.isna().sum()"
   ]
  },
  {
   "cell_type": "code",
   "execution_count": null,
   "id": "8322595c",
   "metadata": {},
   "outputs": [],
   "source": []
  },
  {
   "cell_type": "code",
   "execution_count": null,
   "id": "0ae22dd9",
   "metadata": {},
   "outputs": [],
   "source": [
    "# Check the detail of columns \n",
    "db.info()\n"
   ]
  },
  {
   "cell_type": "code",
   "execution_count": null,
   "id": "32e82ccc",
   "metadata": {},
   "outputs": [],
   "source": [
    "new_db = db.filter([' Bearer Id', ' Dur. (ms)', ' IMSI', 'MSISDN/Number','IMEI', 'Handset Manufacturer'])"
   ]
  },
  {
   "cell_type": "code",
   "execution_count": null,
   "id": "1febfabf",
   "metadata": {},
   "outputs": [],
   "source": [
    "new_db.head()"
   ]
  },
  {
   "cell_type": "code",
   "execution_count": null,
   "id": "fc401eea",
   "metadata": {},
   "outputs": [],
   "source": [
    "new_db.IMEI.skew(axis=0)\n",
    "#but IMEI is string "
   ]
  },
  {
   "cell_type": "code",
   "execution_count": null,
   "id": "e170d4ce",
   "metadata": {},
   "outputs": [],
   "source": [
    "# 30 % of \n",
    "0.3*len(db)"
   ]
  },
  {
   "cell_type": "markdown",
   "id": "471e7f42",
   "metadata": {},
   "source": [
    "Remove columns when the number of missing vlaues is more than 30%  "
   ]
  },
  {
   "cell_type": "code",
   "execution_count": null,
   "id": "f9b5e4a0",
   "metadata": {},
   "outputs": [],
   "source": [
    "db_clean = db.drop(['TCP DL Retrans. Vol (Bytes)', 'TCP UL Retrans. Vol (Bytes)', 'HTTP DL (Bytes)','Nb of sec with 125000B < Vol DL', 'Nb of sec with 1250B < Vol UL < 6250B', 'Nb of sec with 31250B < Vol DL < 125000B', 'Nb of sec with 37500B < Vol UL', 'Nb of sec with 6250B < Vol DL < 31250B', 'Nb of sec with 6250B < Vol UL < 37500B'], axis=1)\n",
    "db_clean.shape"
   ]
  },
  {
   "cell_type": "code",
   "execution_count": null,
   "id": "dee23357",
   "metadata": {},
   "outputs": [],
   "source": []
  }
 ],
 "metadata": {
  "kernelspec": {
   "display_name": "Python 3 (ipykernel)",
   "language": "python",
   "name": "python3"
  },
  "language_info": {
   "codemirror_mode": {
    "name": "ipython",
    "version": 3
   },
   "file_extension": ".py",
   "mimetype": "text/x-python",
   "name": "python",
   "nbconvert_exporter": "python",
   "pygments_lexer": "ipython3",
   "version": "3.8.8"
  }
 },
 "nbformat": 4,
 "nbformat_minor": 5
}
