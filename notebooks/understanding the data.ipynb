{
 "cells": [
  {
   "cell_type": "code",
   "execution_count": 1,
   "id": "f8789c98",
   "metadata": {},
   "outputs": [],
   "source": [
    "import numpy as np \n",
    "import pandas as pd \n",
    "import os \n",
    "import warnings \n",
    "import sys\n"
   ]
  },
  {
   "cell_type": "code",
   "execution_count": 2,
   "id": "8cc6c455",
   "metadata": {},
   "outputs": [],
   "source": [
    "warnings.filterwarnings('ignore')"
   ]
  },
  {
   "cell_type": "code",
   "execution_count": 9,
   "id": "b7de4668",
   "metadata": {},
   "outputs": [],
   "source": [
    "#set path for files\n",
    "\n",
    "parent_dir = os.path.abspath(os.path.join(os.getcwd(), os.pardir)) # setting path to parent directory\n",
    "scripts_dir = os.path.join(parent_dir,\"scripts\") # setting path to scripts directory\n",
    "data_path = os.path.join(parent_dir,\"data\",\"telecom_data.csv\") # setting path to data directory\n",
    "\n",
    "sys.path.insert(1, scripts_dir)"
   ]
  },
  {
   "cell_type": "code",
   "execution_count": null,
   "id": "3b32a5aa",
   "metadata": {},
   "outputs": [],
   "source": []
  },
  {
   "cell_type": "code",
   "execution_count": 18,
   "id": "4287ccd6",
   "metadata": {},
   "outputs": [],
   "source": [
    "db=pd.read_csv(data_path)"
   ]
  },
  {
   "cell_type": "code",
   "execution_count": 20,
   "id": "487ef71f",
   "metadata": {},
   "outputs": [
    {
     "data": {
      "text/plain": [
       "55"
      ]
     },
     "execution_count": 20,
     "metadata": {},
     "output_type": "execute_result"
    }
   ],
   "source": [
    "len(db.columns)"
   ]
  },
  {
   "cell_type": "markdown",
   "id": "6b0d9e0a",
   "metadata": {},
   "source": [
    "# Understanding the data "
   ]
  },
  {
   "cell_type": "code",
   "execution_count": 21,
   "id": "da22c564",
   "metadata": {},
   "outputs": [
    {
     "data": {
      "text/plain": [
       "<bound method NDFrame.head of            Bearer Id            Start  Start ms              End  End ms  \\\n",
       "0       1.311450e+19   4/4/2019 12:01     770.0  4/25/2019 14:35   662.0   \n",
       "1       1.311450e+19   4/9/2019 13:04     235.0   4/25/2019 8:15   606.0   \n",
       "2       1.311450e+19   4/9/2019 17:42       1.0  4/25/2019 11:58   652.0   \n",
       "3       1.311450e+19   4/10/2019 0:31     486.0   4/25/2019 7:36   171.0   \n",
       "4       1.311450e+19  4/12/2019 20:10     565.0  4/25/2019 10:40   954.0   \n",
       "...              ...              ...       ...              ...     ...   \n",
       "149996  7.277830e+18   4/29/2019 7:28     451.0   4/30/2019 6:02   214.0   \n",
       "149997  7.349880e+18   4/29/2019 7:28     483.0  4/30/2019 10:41   187.0   \n",
       "149998  1.311450e+19   4/29/2019 7:28     283.0  4/30/2019 10:46   810.0   \n",
       "149999  1.311450e+19   4/29/2019 7:28     696.0  4/30/2019 10:40   327.0   \n",
       "150000           NaN              NaN       NaN              NaN     NaN   \n",
       "\n",
       "        Dur. (ms)          IMSI  MSISDN/Number          IMEI  \\\n",
       "0       1823652.0  2.082010e+14   3.366496e+10  3.552120e+13   \n",
       "1       1365104.0  2.082020e+14   3.368185e+10  3.579400e+13   \n",
       "2       1361762.0  2.082000e+14   3.376063e+10  3.528150e+13   \n",
       "3       1321509.0  2.082010e+14   3.375034e+10  3.535660e+13   \n",
       "4       1089009.0  2.082010e+14   3.369980e+10  3.540700e+13   \n",
       "...           ...           ...            ...           ...   \n",
       "149996    81230.0  2.082020e+14   3.365069e+10  3.548310e+13   \n",
       "149997    97970.0  2.082020e+14   3.366345e+10  3.566050e+13   \n",
       "149998    98249.0  2.082020e+14   3.362189e+10  3.572120e+13   \n",
       "149999    97910.0  2.082020e+14   3.361962e+10  8.618620e+13   \n",
       "150000        NaN           NaN            NaN           NaN   \n",
       "\n",
       "       Last Location Name  ...  Youtube DL (Bytes)  Youtube UL (Bytes)  \\\n",
       "0             9.16457E+15  ...          15854611.0          2501332.00   \n",
       "1                 L77566A  ...          20247395.0         19111729.00   \n",
       "2                 D42335A  ...          19725661.0         14699576.00   \n",
       "3                 T21824A  ...          21388122.0         15146643.00   \n",
       "4                 D88865A  ...          15259380.0         18962873.00   \n",
       "...                   ...  ...                 ...                 ...   \n",
       "149996            D20434A  ...          16191667.0         11763428.00   \n",
       "149997            D10223C  ...          13877234.0          8288284.00   \n",
       "149998            T51102A  ...          22660510.0          1855903.00   \n",
       "149999            L88342B  ...           8817106.0          8305402.00   \n",
       "150000                NaN  ...          11634072.5         11009410.13   \n",
       "\n",
       "        Netflix DL (Bytes)  Netflix UL (Bytes)  Gaming DL (Bytes)  \\\n",
       "0               8198936.00          9656251.00        278082303.0   \n",
       "1              18338413.00         17227132.00        608750074.0   \n",
       "2              17587794.00          6163408.00        229584621.0   \n",
       "3              13994646.00          1097942.00        799538153.0   \n",
       "4              17124581.00           415218.00        527707248.0   \n",
       "...                    ...                 ...                ...   \n",
       "149996         17883703.00         19678161.00        526609673.0   \n",
       "149997         19350146.00         21293148.00        626893062.0   \n",
       "149998          9963942.00          5065760.00        553539484.0   \n",
       "149999          3322253.00         13172589.00        352536971.0   \n",
       "150000         11626851.72         11001754.82        422044702.6   \n",
       "\n",
       "        Gaming UL (Bytes)  Other DL (Bytes)  Other UL (Bytes)  \\\n",
       "0            1.434415e+07       171744450.0      8.814393e+06   \n",
       "1            1.170709e+06       526904238.0      1.505514e+07   \n",
       "2            3.956300e+05       410692588.0      4.215763e+06   \n",
       "3            1.084972e+07       749039933.0      1.279728e+07   \n",
       "4            3.529801e+06       550709500.0      1.391032e+07   \n",
       "...                   ...               ...               ...   \n",
       "149996       9.197207e+06         3264510.0      1.348742e+07   \n",
       "149997       4.735033e+06       712180387.0      2.457758e+06   \n",
       "149998       1.339432e+07       121100856.0      1.131473e+07   \n",
       "149999       2.529475e+06       814713113.0      1.406930e+06   \n",
       "150000       8.288398e+06       421100544.2      8.264799e+06   \n",
       "\n",
       "        Total UL (Bytes)  Total DL (Bytes)  \n",
       "0             36749741.0       308879636.0  \n",
       "1             53800391.0       653384965.0  \n",
       "2             27883638.0       279807335.0  \n",
       "3             43324218.0       846028530.0  \n",
       "4             38542814.0       569138589.0  \n",
       "...                  ...               ...  \n",
       "149996        57628851.0       574175259.0  \n",
       "149997        39135081.0       666648844.0  \n",
       "149998        34912224.0       592786405.0  \n",
       "149999        29626096.0       371895920.0  \n",
       "150000               NaN               NaN  \n",
       "\n",
       "[150001 rows x 55 columns]>"
      ]
     },
     "execution_count": 21,
     "metadata": {},
     "output_type": "execute_result"
    }
   ],
   "source": [
    "db.head"
   ]
  },
  {
   "cell_type": "code",
   "execution_count": 22,
   "id": "8f2d02dc",
   "metadata": {},
   "outputs": [
    {
     "data": {
      "text/plain": [
       "(150001, 55)"
      ]
     },
     "execution_count": 22,
     "metadata": {},
     "output_type": "execute_result"
    }
   ],
   "source": [
    "db.shape"
   ]
  },
  {
   "cell_type": "code",
   "execution_count": 29,
   "id": "a3513458",
   "metadata": {},
   "outputs": [],
   "source": [
    "missingCount=db.isnull().sum()"
   ]
  },
  {
   "cell_type": "code",
   "execution_count": 32,
   "id": "295522c5",
   "metadata": {},
   "outputs": [
    {
     "data": {
      "text/plain": [
       "1031392"
      ]
     },
     "execution_count": 32,
     "metadata": {},
     "output_type": "execute_result"
    }
   ],
   "source": [
    "missingCount.sum()"
   ]
  },
  {
   "cell_type": "markdown",
   "id": "538792e6",
   "metadata": {},
   "source": [
    "# Data Cleaning step by step"
   ]
  },
  {
   "cell_type": "markdown",
   "id": "558a739d",
   "metadata": {},
   "source": [
    "handling the missing values "
   ]
  },
  {
   "cell_type": "code",
   "execution_count": 36,
   "id": "840947fd",
   "metadata": {},
   "outputs": [
    {
     "name": "stdout",
     "output_type": "stream",
     "text": [
      "The Telecom_data dataset contains 12.5 % missing values.\n"
     ]
    }
   ],
   "source": [
    "# identifying the percentage of missing values with in th data set \n",
    "\n",
    "def percent_of_missing(db):\n",
    "\n",
    "    # multiply row by column to Calculate the total number of cells in dataframe\n",
    "    totalCells = np.product(db.shape)\n",
    "\n",
    "    # Count the number of missing values per column\n",
    "    missingCount = db.isnull().sum()\n",
    "\n",
    "    # Calculate total number of missing values\n",
    "    totalMissing = missingCount.sum()\n",
    "\n",
    "    # Calculate percentage of missing values to the total cells\n",
    "    print(\"The Telecom_data dataset contains\", round(((totalMissing/totalCells) * 100), 2), \"%\", \"missing values.\")\n",
    "\n",
    "percent_of_missing(db)"
   ]
  },
  {
   "cell_type": "code",
   "execution_count": 37,
   "id": "38e864f2",
   "metadata": {
    "scrolled": true
   },
   "outputs": [
    {
     "data": {
      "text/plain": [
       "<bound method NDFrame.describe of            Bearer Id            Start  Start ms              End  End ms  \\\n",
       "0       1.311450e+19   4/4/2019 12:01     770.0  4/25/2019 14:35   662.0   \n",
       "1       1.311450e+19   4/9/2019 13:04     235.0   4/25/2019 8:15   606.0   \n",
       "2       1.311450e+19   4/9/2019 17:42       1.0  4/25/2019 11:58   652.0   \n",
       "3       1.311450e+19   4/10/2019 0:31     486.0   4/25/2019 7:36   171.0   \n",
       "4       1.311450e+19  4/12/2019 20:10     565.0  4/25/2019 10:40   954.0   \n",
       "...              ...              ...       ...              ...     ...   \n",
       "149996  7.277830e+18   4/29/2019 7:28     451.0   4/30/2019 6:02   214.0   \n",
       "149997  7.349880e+18   4/29/2019 7:28     483.0  4/30/2019 10:41   187.0   \n",
       "149998  1.311450e+19   4/29/2019 7:28     283.0  4/30/2019 10:46   810.0   \n",
       "149999  1.311450e+19   4/29/2019 7:28     696.0  4/30/2019 10:40   327.0   \n",
       "150000           NaN              NaN       NaN              NaN     NaN   \n",
       "\n",
       "        Dur. (ms)          IMSI  MSISDN/Number          IMEI  \\\n",
       "0       1823652.0  2.082010e+14   3.366496e+10  3.552120e+13   \n",
       "1       1365104.0  2.082020e+14   3.368185e+10  3.579400e+13   \n",
       "2       1361762.0  2.082000e+14   3.376063e+10  3.528150e+13   \n",
       "3       1321509.0  2.082010e+14   3.375034e+10  3.535660e+13   \n",
       "4       1089009.0  2.082010e+14   3.369980e+10  3.540700e+13   \n",
       "...           ...           ...            ...           ...   \n",
       "149996    81230.0  2.082020e+14   3.365069e+10  3.548310e+13   \n",
       "149997    97970.0  2.082020e+14   3.366345e+10  3.566050e+13   \n",
       "149998    98249.0  2.082020e+14   3.362189e+10  3.572120e+13   \n",
       "149999    97910.0  2.082020e+14   3.361962e+10  8.618620e+13   \n",
       "150000        NaN           NaN            NaN           NaN   \n",
       "\n",
       "       Last Location Name  ...  Youtube DL (Bytes)  Youtube UL (Bytes)  \\\n",
       "0             9.16457E+15  ...          15854611.0          2501332.00   \n",
       "1                 L77566A  ...          20247395.0         19111729.00   \n",
       "2                 D42335A  ...          19725661.0         14699576.00   \n",
       "3                 T21824A  ...          21388122.0         15146643.00   \n",
       "4                 D88865A  ...          15259380.0         18962873.00   \n",
       "...                   ...  ...                 ...                 ...   \n",
       "149996            D20434A  ...          16191667.0         11763428.00   \n",
       "149997            D10223C  ...          13877234.0          8288284.00   \n",
       "149998            T51102A  ...          22660510.0          1855903.00   \n",
       "149999            L88342B  ...           8817106.0          8305402.00   \n",
       "150000                NaN  ...          11634072.5         11009410.13   \n",
       "\n",
       "        Netflix DL (Bytes)  Netflix UL (Bytes)  Gaming DL (Bytes)  \\\n",
       "0               8198936.00          9656251.00        278082303.0   \n",
       "1              18338413.00         17227132.00        608750074.0   \n",
       "2              17587794.00          6163408.00        229584621.0   \n",
       "3              13994646.00          1097942.00        799538153.0   \n",
       "4              17124581.00           415218.00        527707248.0   \n",
       "...                    ...                 ...                ...   \n",
       "149996         17883703.00         19678161.00        526609673.0   \n",
       "149997         19350146.00         21293148.00        626893062.0   \n",
       "149998          9963942.00          5065760.00        553539484.0   \n",
       "149999          3322253.00         13172589.00        352536971.0   \n",
       "150000         11626851.72         11001754.82        422044702.6   \n",
       "\n",
       "        Gaming UL (Bytes)  Other DL (Bytes)  Other UL (Bytes)  \\\n",
       "0            1.434415e+07       171744450.0      8.814393e+06   \n",
       "1            1.170709e+06       526904238.0      1.505514e+07   \n",
       "2            3.956300e+05       410692588.0      4.215763e+06   \n",
       "3            1.084972e+07       749039933.0      1.279728e+07   \n",
       "4            3.529801e+06       550709500.0      1.391032e+07   \n",
       "...                   ...               ...               ...   \n",
       "149996       9.197207e+06         3264510.0      1.348742e+07   \n",
       "149997       4.735033e+06       712180387.0      2.457758e+06   \n",
       "149998       1.339432e+07       121100856.0      1.131473e+07   \n",
       "149999       2.529475e+06       814713113.0      1.406930e+06   \n",
       "150000       8.288398e+06       421100544.2      8.264799e+06   \n",
       "\n",
       "        Total UL (Bytes)  Total DL (Bytes)  \n",
       "0             36749741.0       308879636.0  \n",
       "1             53800391.0       653384965.0  \n",
       "2             27883638.0       279807335.0  \n",
       "3             43324218.0       846028530.0  \n",
       "4             38542814.0       569138589.0  \n",
       "...                  ...               ...  \n",
       "149996        57628851.0       574175259.0  \n",
       "149997        39135081.0       666648844.0  \n",
       "149998        34912224.0       592786405.0  \n",
       "149999        29626096.0       371895920.0  \n",
       "150000               NaN               NaN  \n",
       "\n",
       "[150001 rows x 55 columns]>"
      ]
     },
     "execution_count": 37,
     "metadata": {},
     "output_type": "execute_result"
    }
   ],
   "source": [
    "data_frame.describe"
   ]
  },
  {
   "cell_type": "code",
   "execution_count": null,
   "id": "650d2faa",
   "metadata": {},
   "outputs": [],
   "source": []
  }
 ],
 "metadata": {
  "kernelspec": {
   "display_name": "Python 3 (ipykernel)",
   "language": "python",
   "name": "python3"
  },
  "language_info": {
   "codemirror_mode": {
    "name": "ipython",
    "version": 3
   },
   "file_extension": ".py",
   "mimetype": "text/x-python",
   "name": "python",
   "nbconvert_exporter": "python",
   "pygments_lexer": "ipython3",
   "version": "3.8.8"
  }
 },
 "nbformat": 4,
 "nbformat_minor": 5
}
